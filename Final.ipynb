{
 "cells": [
  {
   "cell_type": "code",
   "execution_count": 1,
   "metadata": {},
   "outputs": [
    {
     "name": "stderr",
     "output_type": "stream",
     "text": [
      "C:\\Users\\Anna Danielyan\\Anaconda3\\lib\\site-packages\\ipykernel_launcher.py:7: FutureWarning: The pandas.core.datetools module is deprecated and will be removed in a future version. Please use the pandas.tseries module instead.\n",
      "  import sys\n"
     ]
    }
   ],
   "source": [
    "#Import the main libraries. \n",
    "import pandas as pd\n",
    "import numpy as np\n",
    "from pandas import read_csv\n",
    "from pandas import datetime\n",
    "from matplotlib import pyplot\n",
    "from pandas.core import datetools\n",
    "from pandas import Series, DataFrame\n",
    "import matplotlib.pyplot as plt\n",
    "\n",
    "from statsmodels.graphics.tsaplots import plot_acf\n",
    "\n",
    "\n",
    "# Data Management\n",
    "import pandas as pd\n",
    "import numpy as np\n",
    "\n",
    "# Data Visualization\n",
    "import matplotlib.pyplot as plt\n",
    "%matplotlib inline\n",
    "import seaborn as sns\n",
    "sns.set_style(\"whitegrid\")\n",
    "\n",
    "# Data splitting\n",
    "from sklearn.model_selection import train_test_split\n",
    "\n",
    "# Hyperparameter selection\n",
    "from sklearn.model_selection import GridSearchCV\n",
    "\n",
    "# Feature Selection\n",
    "from sklearn.feature_selection import SelectKBest, chi2, RFE\n",
    "\n",
    "# Modeling\n",
    "from sklearn.tree import DecisionTreeClassifier\n",
    "from sklearn.neighbors import KNeighborsClassifier\n",
    "from sklearn.linear_model import LogisticRegression\n",
    "from sklearn.ensemble import RandomForestClassifier\n",
    "from sklearn.naive_bayes import GaussianNB\n",
    "\n",
    "from statsmodels.discrete.discrete_model import Logit\n",
    "import statsmodels.tools as sm\n",
    "\n",
    "# Model Evaluation\n",
    "from sklearn.metrics import accuracy_score, classification_report, precision_score, recall_score, confusion_matrix, roc_auc_score, roc_curve\n",
    "import itertools\n",
    "\n",
    "\n",
    "from statsmodels.graphics.tsaplots import plot_acf\n",
    "from statsmodels.graphics.tsaplots import plot_pacf\n",
    "\n",
    "import statsmodels.api as sm\n",
    "\n",
    "from statsmodels.tsa.stattools import adfuller"
   ]
  },
  {
   "cell_type": "code",
   "execution_count": 36,
   "metadata": {},
   "outputs": [],
   "source": [
    "data0 = pd.read_csv('weatherYerevan_2014-2019.csv')\n",
    "data = pd.read_csv(\"final_data.csv\", index_col=\"dt_iso\")"
   ]
  },
  {
   "cell_type": "code",
   "execution_count": 37,
   "metadata": {},
   "outputs": [],
   "source": [
    "data0.dt_iso = pd.to_datetime(data0.dt_iso, \n",
    "                             format=\"%Y-%m-%d %H:%M:%S +0000 UTC\")\n",
    "data0.set_index([\"dt_iso\"], inplace=True)\n",
    "data0.drop([\"dt\"], axis=1, inplace=True)"
   ]
  },
  {
   "cell_type": "code",
   "execution_count": 38,
   "metadata": {},
   "outputs": [
    {
     "data": {
      "text/html": [
       "<div>\n",
       "<style scoped>\n",
       "    .dataframe tbody tr th:only-of-type {\n",
       "        vertical-align: middle;\n",
       "    }\n",
       "\n",
       "    .dataframe tbody tr th {\n",
       "        vertical-align: top;\n",
       "    }\n",
       "\n",
       "    .dataframe thead th {\n",
       "        text-align: right;\n",
       "    }\n",
       "</style>\n",
       "<table border=\"1\" class=\"dataframe\">\n",
       "  <thead>\n",
       "    <tr style=\"text-align: right;\">\n",
       "      <th></th>\n",
       "      <th>temp</th>\n",
       "      <th>pressure</th>\n",
       "      <th>humidity</th>\n",
       "      <th>wind_speed</th>\n",
       "      <th>wind_deg</th>\n",
       "      <th>clouds_all</th>\n",
       "    </tr>\n",
       "  </thead>\n",
       "  <tbody>\n",
       "    <tr>\n",
       "      <th>temp</th>\n",
       "      <td>1.000000</td>\n",
       "      <td>0.006341</td>\n",
       "      <td>-0.801133</td>\n",
       "      <td>0.688277</td>\n",
       "      <td>-0.185884</td>\n",
       "      <td>-0.346875</td>\n",
       "    </tr>\n",
       "    <tr>\n",
       "      <th>pressure</th>\n",
       "      <td>0.006341</td>\n",
       "      <td>1.000000</td>\n",
       "      <td>-0.145099</td>\n",
       "      <td>0.055970</td>\n",
       "      <td>-0.118918</td>\n",
       "      <td>-0.093567</td>\n",
       "    </tr>\n",
       "    <tr>\n",
       "      <th>humidity</th>\n",
       "      <td>-0.801133</td>\n",
       "      <td>-0.145099</td>\n",
       "      <td>1.000000</td>\n",
       "      <td>-0.669699</td>\n",
       "      <td>0.152411</td>\n",
       "      <td>0.557254</td>\n",
       "    </tr>\n",
       "    <tr>\n",
       "      <th>wind_speed</th>\n",
       "      <td>0.688277</td>\n",
       "      <td>0.055970</td>\n",
       "      <td>-0.669699</td>\n",
       "      <td>1.000000</td>\n",
       "      <td>-0.040831</td>\n",
       "      <td>-0.198775</td>\n",
       "    </tr>\n",
       "    <tr>\n",
       "      <th>wind_deg</th>\n",
       "      <td>-0.185884</td>\n",
       "      <td>-0.118918</td>\n",
       "      <td>0.152411</td>\n",
       "      <td>-0.040831</td>\n",
       "      <td>1.000000</td>\n",
       "      <td>0.257076</td>\n",
       "    </tr>\n",
       "    <tr>\n",
       "      <th>clouds_all</th>\n",
       "      <td>-0.346875</td>\n",
       "      <td>-0.093567</td>\n",
       "      <td>0.557254</td>\n",
       "      <td>-0.198775</td>\n",
       "      <td>0.257076</td>\n",
       "      <td>1.000000</td>\n",
       "    </tr>\n",
       "  </tbody>\n",
       "</table>\n",
       "</div>"
      ],
      "text/plain": [
       "                temp  pressure  humidity  wind_speed  wind_deg  clouds_all\n",
       "temp        1.000000  0.006341 -0.801133    0.688277 -0.185884   -0.346875\n",
       "pressure    0.006341  1.000000 -0.145099    0.055970 -0.118918   -0.093567\n",
       "humidity   -0.801133 -0.145099  1.000000   -0.669699  0.152411    0.557254\n",
       "wind_speed  0.688277  0.055970 -0.669699    1.000000 -0.040831   -0.198775\n",
       "wind_deg   -0.185884 -0.118918  0.152411   -0.040831  1.000000    0.257076\n",
       "clouds_all -0.346875 -0.093567  0.557254   -0.198775  0.257076    1.000000"
      ]
     },
     "execution_count": 38,
     "metadata": {},
     "output_type": "execute_result"
    }
   ],
   "source": [
    "data.corr()"
   ]
  },
  {
   "cell_type": "code",
   "execution_count": 39,
   "metadata": {},
   "outputs": [],
   "source": [
    "# Lags of y\n",
    "for i in range(1, 4):\n",
    "    data[\"lag_temp\" + str(i)] = data[\"temp\"].shift(i)\n",
    "\n",
    "# Lags for x\n",
    "for i in range(1, 4):\n",
    "    data[\"lag_clouds\" + str(i)] = data[\"clouds_all\"].shift(i)\n",
    "for i in range(1, 4):\n",
    "    data[\"lag_press\" + str(i)] = data[\"pressure\"].shift(i)\n",
    "for i in range(1, 2):\n",
    "    data[\"lag_hum\" + str(i)] = data[\"humidity\"].shift(i)\n",
    "for i in range(1, 2):\n",
    "    data[\"lag_speed\" + str(i)] = data[\"wind_speed\"].shift(i)\n",
    "for i in range(1, 2):\n",
    "    data[\"lag_deg\" + str(i)] = data[\"wind_deg\"].shift(i)\n",
    "    "
   ]
  },
  {
   "cell_type": "code",
   "execution_count": 40,
   "metadata": {},
   "outputs": [],
   "source": [
    "# drop columns and nan values\n",
    "data.dropna(inplace=True)"
   ]
  },
  {
   "cell_type": "code",
   "execution_count": 41,
   "metadata": {},
   "outputs": [],
   "source": [
    "Y = data[\"temp\"]"
   ]
  },
  {
   "cell_type": "code",
   "execution_count": 42,
   "metadata": {},
   "outputs": [
    {
     "name": "stdout",
     "output_type": "stream",
     "text": [
      "ADF Statistic: -2.012511\n",
      "p-value: 0.281114\n",
      "Critical Values:\n",
      "\t1%: -3.435\n",
      "\t5%: -2.864\n",
      "\t10%: -2.568\n",
      "\u001b[1m Failed to reject HO: data is non-stationary\n"
     ]
    }
   ],
   "source": [
    "result = adfuller(Y)\n",
    "print('ADF Statistic: %f' % result[0])\n",
    "print('p-value: %f' % result[1])\n",
    "print('Critical Values:')\n",
    "for key, value in result[4].items():\n",
    "    print('\\t%s: %.3f' % (key, value))\n",
    "print('\\033[1m Failed to reject HO: data is non-stationary')"
   ]
  },
  {
   "cell_type": "markdown",
   "metadata": {},
   "source": [
    "The ADF Statistics value should be less than the t_critical to reject the H0 and say that the process has no unit root, and in turn that the time series is stationary or does not have time-dependent structure."
   ]
  },
  {
   "cell_type": "code",
   "execution_count": 43,
   "metadata": {},
   "outputs": [],
   "source": [
    "data['temp_diff1'] = data['temp'].diff(periods=1)"
   ]
  },
  {
   "cell_type": "code",
   "execution_count": 44,
   "metadata": {},
   "outputs": [],
   "source": [
    "# drop columns and nan values\n",
    "data.dropna(inplace=True)"
   ]
  },
  {
   "cell_type": "code",
   "execution_count": 45,
   "metadata": {},
   "outputs": [
    {
     "name": "stdout",
     "output_type": "stream",
     "text": [
      "ADF Statistic: -18.229123\n",
      "p-value: 0.000000\n",
      "Critical Values:\n",
      "\t1%: -3.435\n",
      "\t5%: -2.864\n",
      "\t10%: -2.568\n",
      "\u001b[1m Reject HO: data is non-stationary\n"
     ]
    }
   ],
   "source": [
    "result = adfuller(data.temp_diff1)\n",
    "print('ADF Statistic: %f' % result[0])\n",
    "print('p-value: %f' % result[1])\n",
    "print('Critical Values:')\n",
    "for key, value in result[4].items():\n",
    "    print('\\t%s: %.3f' % (key, value))\n",
    "print('\\033[1m Reject HO: data is non-stationary')"
   ]
  },
  {
   "cell_type": "markdown",
   "metadata": {},
   "source": [
    "# ARDL"
   ]
  },
  {
   "cell_type": "code",
   "execution_count": 46,
   "metadata": {},
   "outputs": [
    {
     "data": {
      "image/png": "[encoded data removed]",
      "text/plain": [
       "<Figure size 432x288 with 1 Axes>"
      ]
     },
     "execution_count": 46,
     "metadata": {},
     "output_type": "execute_result"
    },
    {
     "data": {
      "image/png": "[encoded data removed]",
      "text/plain": [
       "<Figure size 432x288 with 1 Axes>"
      ]
     },
     "metadata": {},
     "output_type": "display_data"
    }
   ],
   "source": [
    "plot_acf(data['temp'], lags = 365)"
   ]
  },
  {
   "cell_type": "code",
   "execution_count": 47,
   "metadata": {},
   "outputs": [
    {
     "data": {
      "text/html": [
       "<div>\n",
       "<style scoped>\n",
       "    .dataframe tbody tr th:only-of-type {\n",
       "        vertical-align: middle;\n",
       "    }\n",
       "\n",
       "    .dataframe tbody tr th {\n",
       "        vertical-align: top;\n",
       "    }\n",
       "\n",
       "    .dataframe thead th {\n",
       "        text-align: right;\n",
       "    }\n",
       "</style>\n",
       "<table border=\"1\" class=\"dataframe\">\n",
       "  <thead>\n",
       "    <tr style=\"text-align: right;\">\n",
       "      <th></th>\n",
       "      <th>temp</th>\n",
       "      <th>pressure</th>\n",
       "      <th>humidity</th>\n",
       "      <th>wind_speed</th>\n",
       "      <th>wind_deg</th>\n",
       "      <th>clouds_all</th>\n",
       "      <th>lag_temp1</th>\n",
       "      <th>lag_temp2</th>\n",
       "      <th>lag_temp3</th>\n",
       "      <th>lag_clouds1</th>\n",
       "      <th>lag_clouds2</th>\n",
       "      <th>lag_clouds3</th>\n",
       "      <th>lag_press1</th>\n",
       "      <th>lag_press2</th>\n",
       "      <th>lag_press3</th>\n",
       "      <th>lag_hum1</th>\n",
       "      <th>lag_speed1</th>\n",
       "      <th>lag_deg1</th>\n",
       "      <th>temp_diff1</th>\n",
       "    </tr>\n",
       "    <tr>\n",
       "      <th>dt_iso</th>\n",
       "      <th></th>\n",
       "      <th></th>\n",
       "      <th></th>\n",
       "      <th></th>\n",
       "      <th></th>\n",
       "      <th></th>\n",
       "      <th></th>\n",
       "      <th></th>\n",
       "      <th></th>\n",
       "      <th></th>\n",
       "      <th></th>\n",
       "      <th></th>\n",
       "      <th></th>\n",
       "      <th></th>\n",
       "      <th></th>\n",
       "      <th></th>\n",
       "      <th></th>\n",
       "      <th></th>\n",
       "      <th></th>\n",
       "    </tr>\n",
       "  </thead>\n",
       "  <tbody>\n",
       "    <tr>\n",
       "      <th>2015-06-16</th>\n",
       "      <td>0.119044</td>\n",
       "      <td>-4.147864</td>\n",
       "      <td>0.467100</td>\n",
       "      <td>-0.550188</td>\n",
       "      <td>-2.620332</td>\n",
       "      <td>-1.283032</td>\n",
       "      <td>0.119044</td>\n",
       "      <td>0.146127</td>\n",
       "      <td>-0.088803</td>\n",
       "      <td>-1.283032</td>\n",
       "      <td>-1.283032</td>\n",
       "      <td>-1.283032</td>\n",
       "      <td>-4.147864</td>\n",
       "      <td>-4.027192</td>\n",
       "      <td>-4.027192</td>\n",
       "      <td>0.467100</td>\n",
       "      <td>-0.550188</td>\n",
       "      <td>-2.620332</td>\n",
       "      <td>0.000000</td>\n",
       "    </tr>\n",
       "    <tr>\n",
       "      <th>2015-06-17</th>\n",
       "      <td>0.119044</td>\n",
       "      <td>-4.147864</td>\n",
       "      <td>0.467100</td>\n",
       "      <td>-0.550188</td>\n",
       "      <td>-2.620332</td>\n",
       "      <td>-1.283032</td>\n",
       "      <td>0.119044</td>\n",
       "      <td>0.119044</td>\n",
       "      <td>0.146127</td>\n",
       "      <td>-1.283032</td>\n",
       "      <td>-1.283032</td>\n",
       "      <td>-1.283032</td>\n",
       "      <td>-4.147864</td>\n",
       "      <td>-4.147864</td>\n",
       "      <td>-4.027192</td>\n",
       "      <td>0.467100</td>\n",
       "      <td>-0.550188</td>\n",
       "      <td>-2.620332</td>\n",
       "      <td>0.000000</td>\n",
       "    </tr>\n",
       "    <tr>\n",
       "      <th>2015-06-18</th>\n",
       "      <td>0.119044</td>\n",
       "      <td>-4.147864</td>\n",
       "      <td>0.467100</td>\n",
       "      <td>-0.550188</td>\n",
       "      <td>-2.620332</td>\n",
       "      <td>-1.283032</td>\n",
       "      <td>0.119044</td>\n",
       "      <td>0.119044</td>\n",
       "      <td>0.119044</td>\n",
       "      <td>-1.283032</td>\n",
       "      <td>-1.283032</td>\n",
       "      <td>-1.283032</td>\n",
       "      <td>-4.147864</td>\n",
       "      <td>-4.147864</td>\n",
       "      <td>-4.147864</td>\n",
       "      <td>0.467100</td>\n",
       "      <td>-0.550188</td>\n",
       "      <td>-2.620332</td>\n",
       "      <td>0.000000</td>\n",
       "    </tr>\n",
       "    <tr>\n",
       "      <th>2015-06-19</th>\n",
       "      <td>0.103517</td>\n",
       "      <td>-4.178032</td>\n",
       "      <td>1.298204</td>\n",
       "      <td>0.402704</td>\n",
       "      <td>-1.947744</td>\n",
       "      <td>1.456028</td>\n",
       "      <td>0.119044</td>\n",
       "      <td>0.119044</td>\n",
       "      <td>0.119044</td>\n",
       "      <td>-1.283032</td>\n",
       "      <td>-1.283032</td>\n",
       "      <td>-1.283032</td>\n",
       "      <td>-4.147864</td>\n",
       "      <td>-4.147864</td>\n",
       "      <td>-4.147864</td>\n",
       "      <td>0.467100</td>\n",
       "      <td>-0.550188</td>\n",
       "      <td>-2.620332</td>\n",
       "      <td>-0.015527</td>\n",
       "    </tr>\n",
       "    <tr>\n",
       "      <th>2015-06-20</th>\n",
       "      <td>0.069287</td>\n",
       "      <td>-4.178032</td>\n",
       "      <td>0.986540</td>\n",
       "      <td>-0.550188</td>\n",
       "      <td>-2.644353</td>\n",
       "      <td>-0.255885</td>\n",
       "      <td>0.103517</td>\n",
       "      <td>0.119044</td>\n",
       "      <td>0.119044</td>\n",
       "      <td>1.456028</td>\n",
       "      <td>-1.283032</td>\n",
       "      <td>-1.283032</td>\n",
       "      <td>-4.178032</td>\n",
       "      <td>-4.147864</td>\n",
       "      <td>-4.147864</td>\n",
       "      <td>1.298204</td>\n",
       "      <td>0.402704</td>\n",
       "      <td>-1.947744</td>\n",
       "      <td>-0.034229</td>\n",
       "    </tr>\n",
       "  </tbody>\n",
       "</table>\n",
       "</div>"
      ],
      "text/plain": [
       "                temp  pressure  humidity  wind_speed  wind_deg  clouds_all  \\\n",
       "dt_iso                                                                       \n",
       "2015-06-16  0.119044 -4.147864  0.467100   -0.550188 -2.620332   -1.283032   \n",
       "2015-06-17  0.119044 -4.147864  0.467100   -0.550188 -2.620332   -1.283032   \n",
       "2015-06-18  0.119044 -4.147864  0.467100   -0.550188 -2.620332   -1.283032   \n",
       "2015-06-19  0.103517 -4.178032  1.298204    0.402704 -1.947744    1.456028   \n",
       "2015-06-20  0.069287 -4.178032  0.986540   -0.550188 -2.644353   -0.255885   \n",
       "\n",
       "            lag_temp1  lag_temp2  lag_temp3  lag_clouds1  lag_clouds2  \\\n",
       "dt_iso                                                                  \n",
       "2015-06-16   0.119044   0.146127  -0.088803    -1.283032    -1.283032   \n",
       "2015-06-17   0.119044   0.119044   0.146127    -1.283032    -1.283032   \n",
       "2015-06-18   0.119044   0.119044   0.119044    -1.283032    -1.283032   \n",
       "2015-06-19   0.119044   0.119044   0.119044    -1.283032    -1.283032   \n",
       "2015-06-20   0.103517   0.119044   0.119044     1.456028    -1.283032   \n",
       "\n",
       "            lag_clouds3  lag_press1  lag_press2  lag_press3  lag_hum1  \\\n",
       "dt_iso                                                                  \n",
       "2015-06-16    -1.283032   -4.147864   -4.027192   -4.027192  0.467100   \n",
       "2015-06-17    -1.283032   -4.147864   -4.147864   -4.027192  0.467100   \n",
       "2015-06-18    -1.283032   -4.147864   -4.147864   -4.147864  0.467100   \n",
       "2015-06-19    -1.283032   -4.147864   -4.147864   -4.147864  0.467100   \n",
       "2015-06-20    -1.283032   -4.178032   -4.147864   -4.147864  1.298204   \n",
       "\n",
       "            lag_speed1  lag_deg1  temp_diff1  \n",
       "dt_iso                                        \n",
       "2015-06-16   -0.550188 -2.620332    0.000000  \n",
       "2015-06-17   -0.550188 -2.620332    0.000000  \n",
       "2015-06-18   -0.550188 -2.620332    0.000000  \n",
       "2015-06-19   -0.550188 -2.620332   -0.015527  \n",
       "2015-06-20    0.402704 -1.947744   -0.034229  "
      ]
     },
     "execution_count": 47,
     "metadata": {},
     "output_type": "execute_result"
    }
   ],
   "source": [
    "data.head()"
   ]
  },
  {
   "cell_type": "code",
   "execution_count": 48,
   "metadata": {},
   "outputs": [
    {
     "data": {
      "image/png": "[encoded data removed]",
      "text/plain": [
       "<Figure size 432x288 with 1 Axes>"
      ]
     },
     "execution_count": 48,
     "metadata": {},
     "output_type": "execute_result"
    },
    {
     "data": {
      "image/png": "[encoded data removed]",
      "text/plain": [
       "<Figure size 432x288 with 1 Axes>"
      ]
     },
     "metadata": {},
     "output_type": "display_data"
    }
   ],
   "source": [
    "plot_pacf(data['temp'], lags = 60)"
   ]
  },
  {
   "cell_type": "code",
   "execution_count": 49,
   "metadata": {},
   "outputs": [
    {
     "data": {
      "text/html": [
       "<table class=\"simpletable\">\n",
       "<caption>OLS Regression Results</caption>\n",
       "<tr>\n",
       "  <th>Dep. Variable:</th>          <td>temp</td>       <th>  R-squared:         </th>  <td>   1.000</td> \n",
       "</tr>\n",
       "<tr>\n",
       "  <th>Model:</th>                   <td>OLS</td>       <th>  Adj. R-squared:    </th>  <td>   1.000</td> \n",
       "</tr>\n",
       "<tr>\n",
       "  <th>Method:</th>             <td>Least Squares</td>  <th>  F-statistic:       </th>  <td>1.204e+32</td>\n",
       "</tr>\n",
       "<tr>\n",
       "  <th>Date:</th>             <td>Wed, 08 May 2019</td> <th>  Prob (F-statistic):</th>   <td>  0.00</td>  \n",
       "</tr>\n",
       "<tr>\n",
       "  <th>Time:</th>                 <td>11:29:19</td>     <th>  Log-Likelihood:    </th>  <td>  46202.</td> \n",
       "</tr>\n",
       "<tr>\n",
       "  <th>No. Observations:</th>      <td>  1396</td>      <th>  AIC:               </th> <td>-9.238e+04</td>\n",
       "</tr>\n",
       "<tr>\n",
       "  <th>Df Residuals:</th>          <td>  1385</td>      <th>  BIC:               </th> <td>-9.232e+04</td>\n",
       "</tr>\n",
       "<tr>\n",
       "  <th>Df Model:</th>              <td>    11</td>      <th>                     </th>      <td> </td>    \n",
       "</tr>\n",
       "<tr>\n",
       "  <th>Covariance Type:</th>      <td>nonrobust</td>    <th>                     </th>      <td> </td>    \n",
       "</tr>\n",
       "</table>\n",
       "<table class=\"simpletable\">\n",
       "<tr>\n",
       "       <td></td>          <th>coef</th>     <th>std err</th>      <th>t</th>      <th>P>|t|</th>  <th>[0.025</th>    <th>0.975]</th>  \n",
       "</tr>\n",
       "<tr>\n",
       "  <th>pressure</th>    <td> 5.898e-16</td> <td> 7.07e-17</td> <td>    8.344</td> <td> 0.000</td> <td> 4.51e-16</td> <td> 7.28e-16</td>\n",
       "</tr>\n",
       "<tr>\n",
       "  <th>humidity</th>    <td>-1.527e-16</td> <td> 8.07e-17</td> <td>   -1.891</td> <td> 0.059</td> <td>-3.11e-16</td> <td>  5.7e-18</td>\n",
       "</tr>\n",
       "<tr>\n",
       "  <th>wind_deg</th>    <td> 2.845e-16</td> <td> 3.21e-17</td> <td>    8.863</td> <td> 0.000</td> <td> 2.22e-16</td> <td> 3.47e-16</td>\n",
       "</tr>\n",
       "<tr>\n",
       "  <th>clouds_all</th>  <td>  3.79e-16</td> <td> 4.34e-17</td> <td>    8.730</td> <td> 0.000</td> <td> 2.94e-16</td> <td> 4.64e-16</td>\n",
       "</tr>\n",
       "<tr>\n",
       "  <th>lag_temp1</th>   <td>    1.0000</td> <td> 5.34e-17</td> <td> 1.87e+16</td> <td> 0.000</td> <td>    1.000</td> <td>    1.000</td>\n",
       "</tr>\n",
       "<tr>\n",
       "  <th>lag_clouds1</th> <td> 3.955e-16</td> <td> 4.44e-17</td> <td>    8.912</td> <td> 0.000</td> <td> 3.08e-16</td> <td> 4.83e-16</td>\n",
       "</tr>\n",
       "<tr>\n",
       "  <th>lag_press1</th>  <td>-2.012e-16</td> <td> 7.05e-17</td> <td>   -2.854</td> <td> 0.004</td> <td> -3.4e-16</td> <td>-6.29e-17</td>\n",
       "</tr>\n",
       "<tr>\n",
       "  <th>lag_hum1</th>    <td>-3.643e-16</td> <td> 8.01e-17</td> <td>   -4.550</td> <td> 0.000</td> <td>-5.21e-16</td> <td>-2.07e-16</td>\n",
       "</tr>\n",
       "<tr>\n",
       "  <th>lag_speed1</th>  <td>-4.458e-16</td> <td> 4.19e-17</td> <td>  -10.641</td> <td> 0.000</td> <td>-5.28e-16</td> <td>-3.64e-16</td>\n",
       "</tr>\n",
       "<tr>\n",
       "  <th>lag_deg1</th>    <td> 3.469e-16</td> <td> 3.21e-17</td> <td>   10.792</td> <td> 0.000</td> <td> 2.84e-16</td> <td>  4.1e-16</td>\n",
       "</tr>\n",
       "<tr>\n",
       "  <th>temp_diff1</th>  <td>    1.0000</td> <td> 2.03e-16</td> <td> 4.94e+15</td> <td> 0.000</td> <td>    1.000</td> <td>    1.000</td>\n",
       "</tr>\n",
       "</table>\n",
       "<table class=\"simpletable\">\n",
       "<tr>\n",
       "  <th>Omnibus:</th>       <td>32.473</td> <th>  Durbin-Watson:     </th> <td>   0.750</td>\n",
       "</tr>\n",
       "<tr>\n",
       "  <th>Prob(Omnibus):</th> <td> 0.000</td> <th>  Jarque-Bera (JB):  </th> <td>  64.180</td>\n",
       "</tr>\n",
       "<tr>\n",
       "  <th>Skew:</th>          <td> 0.107</td> <th>  Prob(JB):          </th> <td>1.16e-14</td>\n",
       "</tr>\n",
       "<tr>\n",
       "  <th>Kurtosis:</th>      <td> 4.028</td> <th>  Cond. No.          </th> <td>    15.4</td>\n",
       "</tr>\n",
       "</table><br/><br/>Warnings:<br/>[1] Standard Errors assume that the covariance matrix of the errors is correctly specified."
      ],
      "text/plain": [
       "<class 'statsmodels.iolib.summary.Summary'>\n",
       "\"\"\"\n",
       "                            OLS Regression Results                            \n",
       "==============================================================================\n",
       "Dep. Variable:                   temp   R-squared:                       1.000\n",
       "Model:                            OLS   Adj. R-squared:                  1.000\n",
       "Method:                 Least Squares   F-statistic:                 1.204e+32\n",
       "Date:                Wed, 08 May 2019   Prob (F-statistic):               0.00\n",
       "Time:                        11:29:19   Log-Likelihood:                 46202.\n",
       "No. Observations:                1396   AIC:                        -9.238e+04\n",
       "Df Residuals:                    1385   BIC:                        -9.232e+04\n",
       "Df Model:                          11                                         \n",
       "Covariance Type:            nonrobust                                         \n",
       "===============================================================================\n",
       "                  coef    std err          t      P>|t|      [0.025      0.975]\n",
       "-------------------------------------------------------------------------------\n",
       "pressure     5.898e-16   7.07e-17      8.344      0.000    4.51e-16    7.28e-16\n",
       "humidity    -1.527e-16   8.07e-17     -1.891      0.059   -3.11e-16     5.7e-18\n",
       "wind_deg     2.845e-16   3.21e-17      8.863      0.000    2.22e-16    3.47e-16\n",
       "clouds_all    3.79e-16   4.34e-17      8.730      0.000    2.94e-16    4.64e-16\n",
       "lag_temp1       1.0000   5.34e-17   1.87e+16      0.000       1.000       1.000\n",
       "lag_clouds1  3.955e-16   4.44e-17      8.912      0.000    3.08e-16    4.83e-16\n",
       "lag_press1  -2.012e-16   7.05e-17     -2.854      0.004    -3.4e-16   -6.29e-17\n",
       "lag_hum1    -3.643e-16   8.01e-17     -4.550      0.000   -5.21e-16   -2.07e-16\n",
       "lag_speed1  -4.458e-16   4.19e-17    -10.641      0.000   -5.28e-16   -3.64e-16\n",
       "lag_deg1     3.469e-16   3.21e-17     10.792      0.000    2.84e-16     4.1e-16\n",
       "temp_diff1      1.0000   2.03e-16   4.94e+15      0.000       1.000       1.000\n",
       "==============================================================================\n",
       "Omnibus:                       32.473   Durbin-Watson:                   0.750\n",
       "Prob(Omnibus):                  0.000   Jarque-Bera (JB):               64.180\n",
       "Skew:                           0.107   Prob(JB):                     1.16e-14\n",
       "Kurtosis:                       4.028   Cond. No.                         15.4\n",
       "==============================================================================\n",
       "\n",
       "Warnings:\n",
       "[1] Standard Errors assume that the covariance matrix of the errors is correctly specified.\n",
       "\"\"\""
      ]
     },
     "execution_count": 49,
     "metadata": {},
     "output_type": "execute_result"
    }
   ],
   "source": [
    "Y = data[\"temp\"]\n",
    "X = data.drop([\"temp\", \"lag_temp2\", \"wind_speed\", \"lag_press2\", \"lag_press3\", \"lag_temp3\", \"lag_clouds2\", \"lag_clouds3\"], axis=1)\n",
    "model = sm.OLS(Y, X)\n",
    "results = model.fit()\n",
    "results.summary()"
   ]
  },
  {
   "cell_type": "code",
   "execution_count": 51,
   "metadata": {},
   "outputs": [],
   "source": [
    "residuals = DataFrame(results.resid)\n",
    "residuals.columns = ['e']\n",
    "residuals['de'] = residuals['e'].diff(periods=1)\n",
    "residuals['lag_e']=residuals['e'].shift(periods=1)\n",
    "residuals.dropna(inplace=True)"
   ]
  },
  {
   "cell_type": "code",
   "execution_count": 52,
   "metadata": {},
   "outputs": [
    {
     "data": {
      "text/html": [
       "<div>\n",
       "<style scoped>\n",
       "    .dataframe tbody tr th:only-of-type {\n",
       "        vertical-align: middle;\n",
       "    }\n",
       "\n",
       "    .dataframe tbody tr th {\n",
       "        vertical-align: top;\n",
       "    }\n",
       "\n",
       "    .dataframe thead th {\n",
       "        text-align: right;\n",
       "    }\n",
       "</style>\n",
       "<table border=\"1\" class=\"dataframe\">\n",
       "  <thead>\n",
       "    <tr style=\"text-align: right;\">\n",
       "      <th></th>\n",
       "      <th>e</th>\n",
       "      <th>de</th>\n",
       "      <th>lag_e</th>\n",
       "    </tr>\n",
       "    <tr>\n",
       "      <th>dt_iso</th>\n",
       "      <th></th>\n",
       "      <th></th>\n",
       "      <th></th>\n",
       "    </tr>\n",
       "  </thead>\n",
       "  <tbody>\n",
       "    <tr>\n",
       "      <th>2015-06-17</th>\n",
       "      <td>4.260481e-15</td>\n",
       "      <td>0.000000e+00</td>\n",
       "      <td>4.260481e-15</td>\n",
       "    </tr>\n",
       "    <tr>\n",
       "      <th>2015-06-18</th>\n",
       "      <td>4.260481e-15</td>\n",
       "      <td>0.000000e+00</td>\n",
       "      <td>4.260481e-15</td>\n",
       "    </tr>\n",
       "    <tr>\n",
       "      <th>2015-06-19</th>\n",
       "      <td>3.205769e-15</td>\n",
       "      <td>-1.054712e-15</td>\n",
       "      <td>4.260481e-15</td>\n",
       "    </tr>\n",
       "    <tr>\n",
       "      <th>2015-06-20</th>\n",
       "      <td>3.455569e-15</td>\n",
       "      <td>2.498002e-16</td>\n",
       "      <td>3.205769e-15</td>\n",
       "    </tr>\n",
       "    <tr>\n",
       "      <th>2015-06-21</th>\n",
       "      <td>3.747003e-15</td>\n",
       "      <td>2.914335e-16</td>\n",
       "      <td>3.455569e-15</td>\n",
       "    </tr>\n",
       "  </tbody>\n",
       "</table>\n",
       "</div>"
      ],
      "text/plain": [
       "                       e            de         lag_e\n",
       "dt_iso                                              \n",
       "2015-06-17  4.260481e-15  0.000000e+00  4.260481e-15\n",
       "2015-06-18  4.260481e-15  0.000000e+00  4.260481e-15\n",
       "2015-06-19  3.205769e-15 -1.054712e-15  4.260481e-15\n",
       "2015-06-20  3.455569e-15  2.498002e-16  3.205769e-15\n",
       "2015-06-21  3.747003e-15  2.914335e-16  3.455569e-15"
      ]
     },
     "execution_count": 52,
     "metadata": {},
     "output_type": "execute_result"
    }
   ],
   "source": [
    "residuals.head()"
   ]
  },
  {
   "cell_type": "code",
   "execution_count": 54,
   "metadata": {},
   "outputs": [
    {
     "name": "stdout",
     "output_type": "stream",
     "text": [
      "ADF Statistic: -17.988852\n",
      "p-value: 0.000000\n",
      "Critical Values:\n",
      "\t1%: -3.435\n",
      "\t5%: -2.864\n",
      "\t10%: -2.568\n",
      "\u001b[1m Reject HO: data is non-stationary\n"
     ]
    }
   ],
   "source": [
    "#unit root test for stationarity of the residuals:\n",
    "result = adfuller(residuals['e'],autolag='AIC')\n",
    "print('ADF Statistic: %f' % result[0])\n",
    "print('p-value: %f' % result[1])\n",
    "print('Critical Values:')\n",
    "for key, value in result[4].items():\n",
    "\tprint('\\t%s: %.3f' % (key, value))\n",
    "    \n",
    "print('\\033[1m Reject HO: data is non-stationary')"
   ]
  },
  {
   "cell_type": "markdown",
   "metadata": {},
   "source": [
    "# Sarimax"
   ]
  },
  {
   "cell_type": "code",
   "execution_count": 55,
   "metadata": {},
   "outputs": [],
   "source": [
    "data = pd.read_csv(\"final_data.csv\", index_col=\"dt_iso\")"
   ]
  },
  {
   "cell_type": "code",
   "execution_count": 57,
   "metadata": {
    "scrolled": false
   },
   "outputs": [
    {
     "name": "stderr",
     "output_type": "stream",
     "text": [
      "C:\\Users\\Anna Danielyan\\Anaconda3\\lib\\site-packages\\statsmodels\\tsa\\base\\tsa_model.py:171: ValueWarning: No frequency information was provided, so inferred frequency D will be used.\n",
      "  % freq, ValueWarning)\n"
     ]
    },
    {
     "data": {
      "text/html": [
       "<table class=\"simpletable\">\n",
       "<caption>Statespace Model Results</caption>\n",
       "<tr>\n",
       "  <th>Dep. Variable:</th>         <td>temp</td>       <th>  No. Observations:  </th>   <td>1400</td>   \n",
       "</tr>\n",
       "<tr>\n",
       "  <th>Model:</th>           <td>SARIMAX(2, 0, 0)</td> <th>  Log Likelihood     </th>  <td>763.684</td> \n",
       "</tr>\n",
       "<tr>\n",
       "  <th>Date:</th>            <td>Wed, 08 May 2019</td> <th>  AIC                </th> <td>-1509.369</td>\n",
       "</tr>\n",
       "<tr>\n",
       "  <th>Time:</th>                <td>11:36:28</td>     <th>  BIC                </th> <td>-1462.171</td>\n",
       "</tr>\n",
       "<tr>\n",
       "  <th>Sample:</th>             <td>06-12-2015</td>    <th>  HQIC               </th> <td>-1491.725</td>\n",
       "</tr>\n",
       "<tr>\n",
       "  <th></th>                   <td>- 04-11-2019</td>   <th>                     </th>     <td> </td>    \n",
       "</tr>\n",
       "<tr>\n",
       "  <th>Covariance Type:</th>        <td>opg</td>       <th>                     </th>     <td> </td>    \n",
       "</tr>\n",
       "</table>\n",
       "<table class=\"simpletable\">\n",
       "<tr>\n",
       "       <td></td>         <th>coef</th>     <th>std err</th>      <th>z</th>      <th>P>|z|</th>  <th>[0.025</th>    <th>0.975]</th>  \n",
       "</tr>\n",
       "<tr>\n",
       "  <th>intercept</th>  <td> 5.554e-05</td> <td>    0.004</td> <td>    0.014</td> <td> 0.989</td> <td>   -0.008</td> <td>    0.008</td>\n",
       "</tr>\n",
       "<tr>\n",
       "  <th>pressure</th>   <td>    0.0309</td> <td>    0.007</td> <td>    4.756</td> <td> 0.000</td> <td>    0.018</td> <td>    0.044</td>\n",
       "</tr>\n",
       "<tr>\n",
       "  <th>humidity</th>   <td>   -0.1720</td> <td>    0.007</td> <td>  -24.300</td> <td> 0.000</td> <td>   -0.186</td> <td>   -0.158</td>\n",
       "</tr>\n",
       "<tr>\n",
       "  <th>wind_speed</th> <td>    0.0193</td> <td>    0.005</td> <td>    4.218</td> <td> 0.000</td> <td>    0.010</td> <td>    0.028</td>\n",
       "</tr>\n",
       "<tr>\n",
       "  <th>wind_deg</th>   <td>   -0.0062</td> <td>    0.003</td> <td>   -2.007</td> <td> 0.045</td> <td>   -0.012</td> <td>   -0.000</td>\n",
       "</tr>\n",
       "<tr>\n",
       "  <th>clouds_all</th> <td>    0.0538</td> <td>    0.005</td> <td>   11.800</td> <td> 0.000</td> <td>    0.045</td> <td>    0.063</td>\n",
       "</tr>\n",
       "<tr>\n",
       "  <th>ar.L1</th>      <td>    1.1620</td> <td>    0.024</td> <td>   48.823</td> <td> 0.000</td> <td>    1.115</td> <td>    1.209</td>\n",
       "</tr>\n",
       "<tr>\n",
       "  <th>ar.L2</th>      <td>   -0.1783</td> <td>    0.024</td> <td>   -7.494</td> <td> 0.000</td> <td>   -0.225</td> <td>   -0.132</td>\n",
       "</tr>\n",
       "<tr>\n",
       "  <th>sigma2</th>     <td>    0.0196</td> <td>    0.001</td> <td>   33.576</td> <td> 0.000</td> <td>    0.018</td> <td>    0.021</td>\n",
       "</tr>\n",
       "</table>\n",
       "<table class=\"simpletable\">\n",
       "<tr>\n",
       "  <th>Ljung-Box (Q):</th>          <td>109.45</td> <th>  Jarque-Bera (JB):  </th> <td>177.54</td>\n",
       "</tr>\n",
       "<tr>\n",
       "  <th>Prob(Q):</th>                 <td>0.00</td>  <th>  Prob(JB):          </th>  <td>0.00</td> \n",
       "</tr>\n",
       "<tr>\n",
       "  <th>Heteroskedasticity (H):</th>  <td>0.79</td>  <th>  Skew:              </th>  <td>-0.40</td>\n",
       "</tr>\n",
       "<tr>\n",
       "  <th>Prob(H) (two-sided):</th>     <td>0.01</td>  <th>  Kurtosis:          </th>  <td>4.55</td> \n",
       "</tr>\n",
       "</table><br/><br/>Warnings:<br/>[1] Covariance matrix calculated using the outer product of gradients (complex-step)."
      ],
      "text/plain": [
       "<class 'statsmodels.iolib.summary.Summary'>\n",
       "\"\"\"\n",
       "                           Statespace Model Results                           \n",
       "==============================================================================\n",
       "Dep. Variable:                   temp   No. Observations:                 1400\n",
       "Model:               SARIMAX(2, 0, 0)   Log Likelihood                 763.684\n",
       "Date:                Wed, 08 May 2019   AIC                          -1509.369\n",
       "Time:                        11:36:28   BIC                          -1462.171\n",
       "Sample:                    06-12-2015   HQIC                         -1491.725\n",
       "                         - 04-11-2019                                         \n",
       "Covariance Type:                  opg                                         \n",
       "==============================================================================\n",
       "                 coef    std err          z      P>|z|      [0.025      0.975]\n",
       "------------------------------------------------------------------------------\n",
       "intercept   5.554e-05      0.004      0.014      0.989      -0.008       0.008\n",
       "pressure       0.0309      0.007      4.756      0.000       0.018       0.044\n",
       "humidity      -0.1720      0.007    -24.300      0.000      -0.186      -0.158\n",
       "wind_speed     0.0193      0.005      4.218      0.000       0.010       0.028\n",
       "wind_deg      -0.0062      0.003     -2.007      0.045      -0.012      -0.000\n",
       "clouds_all     0.0538      0.005     11.800      0.000       0.045       0.063\n",
       "ar.L1          1.1620      0.024     48.823      0.000       1.115       1.209\n",
       "ar.L2         -0.1783      0.024     -7.494      0.000      -0.225      -0.132\n",
       "sigma2         0.0196      0.001     33.576      0.000       0.018       0.021\n",
       "===================================================================================\n",
       "Ljung-Box (Q):                      109.45   Jarque-Bera (JB):               177.54\n",
       "Prob(Q):                              0.00   Prob(JB):                         0.00\n",
       "Heteroskedasticity (H):               0.79   Skew:                            -0.40\n",
       "Prob(H) (two-sided):                  0.01   Kurtosis:                         4.55\n",
       "===================================================================================\n",
       "\n",
       "Warnings:\n",
       "[1] Covariance matrix calculated using the outer product of gradients (complex-step).\n",
       "\"\"\""
      ]
     },
     "execution_count": 57,
     "metadata": {},
     "output_type": "execute_result"
    }
   ],
   "source": [
    "model=sm.tsa.statespace.SARIMAX(endog=data['temp'],exog=data.drop(['temp'], axis=1),order=(2,0,0),seasonal_order=(0,0,0,0),trend='c',enforce_invertibility=False)\n",
    "results=model.fit()\n",
    "results.summary()"
   ]
  },
  {
   "cell_type": "code",
   "execution_count": 58,
   "metadata": {},
   "outputs": [],
   "source": [
    "m = data0.temp.mean()\n",
    "sd = data0.temp.std()"
   ]
  },
  {
   "cell_type": "code",
   "execution_count": 68,
   "metadata": {
    "scrolled": false
   },
   "outputs": [
    {
     "name": "stdout",
     "output_type": "stream",
     "text": [
      "2019-04-12    9.778953\n",
      "2019-04-13    9.746843\n",
      "2019-04-14    9.777626\n",
      "Freq: D, dtype: float64\n"
     ]
    }
   ],
   "source": [
    "print(results.forecast(steps=3, exog=([1, 1, 1, 1, 1], [1, 1, 1, 1, 1], [1, 1, 1, 1, 1])) * sd + m - 273.15)"
   ]
  },
  {
   "cell_type": "markdown",
   "metadata": {},
   "source": [
    "Last two winters were warmer compared to previous ones.  \n",
    "Let's check this hypothesis using T-test, and see if there is a significant difference in means.  "
   ]
  },
  {
   "cell_type": "code",
   "execution_count": 69,
   "metadata": {},
   "outputs": [],
   "source": [
    "data = pd.read_csv(\"final_data.csv\", index_col=\"dt_iso\")"
   ]
  },
  {
   "cell_type": "code",
   "execution_count": 70,
   "metadata": {},
   "outputs": [],
   "source": [
    "data.index = pd.to_datetime(data.index)"
   ]
  },
  {
   "cell_type": "code",
   "execution_count": 71,
   "metadata": {},
   "outputs": [],
   "source": [
    "df = pd.DataFrame({\"winter_2015\" : data[\"2015-12-01\":\"2016-02-28\"].temp.values,\n",
    "                    \"winter_2016\" : data[\"2016-12-01\":\"2017-02-28\"].temp.values,\n",
    "                    \"winter_2017\" : data[\"2017-12-01\":\"2018-02-28\"].temp.values,\n",
    "                    \"winter_2018\" : data[\"2018-12-01\":\"2019-02-28\"].temp.values\n",
    "})"
   ]
  },
  {
   "cell_type": "code",
   "execution_count": 72,
   "metadata": {
    "scrolled": true
   },
   "outputs": [
    {
     "data": {
      "image/png": "[encoded data removed]",
      "text/plain": [
       "<Figure size 432x288 with 1 Axes>"
      ]
     },
     "metadata": {},
     "output_type": "display_data"
    }
   ],
   "source": [
    "sns.boxplot(data = df);"
   ]
  },
  {
   "cell_type": "code",
   "execution_count": 21,
   "metadata": {},
   "outputs": [
    {
     "data": {
      "text/plain": [
       "winter_2015    0.149179\n",
       "winter_2016    0.191821\n",
       "winter_2017    0.065853\n",
       "winter_2018    0.062027\n",
       "dtype: float64"
      ]
     },
     "execution_count": 21,
     "metadata": {},
     "output_type": "execute_result"
    }
   ],
   "source": [
    "df.var()"
   ]
  },
  {
   "cell_type": "code",
   "execution_count": 22,
   "metadata": {},
   "outputs": [
    {
     "data": {
      "text/plain": [
       "winter_2015   -1.121966\n",
       "winter_2016   -1.780406\n",
       "winter_2017   -0.883305\n",
       "winter_2018   -1.074412\n",
       "dtype: float64"
      ]
     },
     "execution_count": 22,
     "metadata": {},
     "output_type": "execute_result"
    }
   ],
   "source": [
    "df.mean()"
   ]
  },
  {
   "cell_type": "code",
   "execution_count": 23,
   "metadata": {},
   "outputs": [],
   "source": [
    "from scipy import stats"
   ]
  },
  {
   "cell_type": "code",
   "execution_count": 24,
   "metadata": {},
   "outputs": [
    {
     "name": "stdout",
     "output_type": "stream",
     "text": [
      "T-test for 2016 vs 2018:  Ttest_relResult(statistic=-14.733557601172304, pvalue=1.3398051269676616e-25)\n",
      "T-test for 2015 vs 2018:  Ttest_relResult(statistic=-1.2090098086430627, pvalue=0.22986117321652397)\n",
      "T-test for 2016 vs 2017:  Ttest_relResult(statistic=-15.528599651195524, pvalue=4.5544444136548364e-27)\n",
      "T-test for 2015 vs 2017:  Ttest_relResult(statistic=-6.619789406459984, pvalue=2.630251457706028e-09)\n"
     ]
    }
   ],
   "source": [
    "print(\"T-test for 2016 vs 2018: \", stats.ttest_rel(df.winter_2016, df.winter_2018))\n",
    "print(\"T-test for 2015 vs 2018: \", stats.ttest_rel(df.winter_2015, df.winter_2018))\n",
    "print(\"T-test for 2016 vs 2017: \", stats.ttest_rel(df.winter_2016, df.winter_2017))\n",
    "print(\"T-test for 2015 vs 2017: \", stats.ttest_rel(df.winter_2015, df.winter_2017))"
   ]
  },
  {
   "cell_type": "code",
   "execution_count": 25,
   "metadata": {},
   "outputs": [
    {
     "name": "stdout",
     "output_type": "stream",
     "text": [
      "Shapiro test for 2018 vs 2016 (0.9885522723197937, 0.6245923638343811)\n",
      "Shapiro test for 2017 vs 2015 (0.9389685988426208, 0.0003709469747263938)\n",
      "Shapiro test for 2018 vs 2015 (0.9703464508056641, 0.03740397468209267)\n",
      "Shapiro test for 2017 vs 2016 (0.9649539589881897, 0.015771985054016113)\n"
     ]
    }
   ],
   "source": [
    "print(\"Shapiro test for 2018 vs 2016\", stats.shapiro(df.winter_2018 - df.winter_2016))\n",
    "print(\"Shapiro test for 2017 vs 2015\", stats.shapiro(df.winter_2017 - df.winter_2015))\n",
    "print(\"Shapiro test for 2018 vs 2015\", stats.shapiro(df.winter_2018 - df.winter_2015))\n",
    "print(\"Shapiro test for 2017 vs 2016\", stats.shapiro(df.winter_2017 - df.winter_2016))"
   ]
  },
  {
   "cell_type": "markdown",
   "metadata": {},
   "source": [
    "Differences are normally distributed for 2018 vs 2016. "
   ]
  },
  {
   "cell_type": "code",
   "execution_count": null,
   "metadata": {},
   "outputs": [],
   "source": []
  },
  {
   "cell_type": "code",
   "execution_count": null,
   "metadata": {},
   "outputs": [],
   "source": []
  }
 ],
 "metadata": {
  "kernelspec": {
   "display_name": "Python 3",
   "language": "python",
   "name": "python3"
  },
  "language_info": {
   "codemirror_mode": {
    "name": "ipython",
    "version": 3
   },
   "file_extension": ".py",
   "mimetype": "text/x-python",
   "name": "python",
   "nbconvert_exporter": "python",
   "pygments_lexer": "ipython3",
   "version": "3.6.5"
  }
 },
 "nbformat": 4,
 "nbformat_minor": 2
}
