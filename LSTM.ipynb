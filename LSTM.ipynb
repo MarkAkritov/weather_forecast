{
 "cells": [
  {
   "cell_type": "code",
   "execution_count": 1,
   "metadata": {},
   "outputs": [
    {
     "name": "stderr",
     "output_type": "stream",
     "text": [
      "C:\\Users\\Dell\\Anaconda3\\lib\\site-packages\\h5py\\__init__.py:36: FutureWarning: Conversion of the second argument of issubdtype from `float` to `np.floating` is deprecated. In future, it will be treated as `np.float64 == np.dtype(float).type`.\n",
      "  from ._conv import register_converters as _register_converters\n",
      "Using TensorFlow backend.\n",
      "C:\\Users\\Dell\\Anaconda3\\lib\\site-packages\\requests\\__init__.py:80: RequestsDependencyWarning: urllib3 (1.24.1) or chardet (3.0.4) doesn't match a supported version!\n",
      "  RequestsDependencyWarning)\n"
     ]
    }
   ],
   "source": [
    "import numpy as np\n",
    "import pandas as pd\n",
    "import math\n",
    "import datetime\n",
    "\n",
    "import matplotlib.pyplot as plt\n",
    "\n",
    "from keras.models import Sequential\n",
    "from keras.layers import Dense\n",
    "from keras.layers import LSTM\n",
    "from keras.layers import Dropout\n",
    "\n",
    "from sklearn.preprocessing import StandardScaler\n",
    "from sklearn.metrics import mean_squared_error\n",
    "\n",
    "np.random.seed(42)"
   ]
  },
  {
   "cell_type": "code",
   "execution_count": 180,
   "metadata": {},
   "outputs": [],
   "source": [
    "data = pd.read_csv(\"final_data.csv\", index_col=\"dt_iso\", parse_dates=True)"
   ]
  },
  {
   "cell_type": "code",
   "execution_count": 2,
   "metadata": {},
   "outputs": [],
   "source": [
    "def make_lags(df, lags=1):\n",
    "    \n",
    "    cols = df.columns\n",
    "    for col in cols:\n",
    "        for i in range(lags):\n",
    "            df[col + \"_lag\" + str(i + 1)] = df[col].shift(i + 1)\n",
    "    df = df.dropna()\n",
    "    \n",
    "    return df"
   ]
  },
  {
   "cell_type": "code",
   "execution_count": 128,
   "metadata": {},
   "outputs": [
    {
     "data": {
      "text/plain": [
       "(3, 365, 23)"
      ]
     },
     "execution_count": 128,
     "metadata": {},
     "output_type": "execute_result"
    }
   ],
   "source": [
    "tensor_data = np.array([\n",
    "    data[\"2016\"].iloc[1:].drop([\"temp\"], axis=1).values,\n",
    "    data[\"2017\"].drop([\"temp\"], axis=1).values,\n",
    "    data[\"2018\"].drop([\"temp\"], axis=1).values\n",
    "])\n",
    "\n",
    "target = np.array([\n",
    "    data[\"2016\"].iloc[1:].temp.values,\n",
    "    data[\"2017\"].temp.values,\n",
    "    data[\"2018\"].temp.values\n",
    "])\n",
    "\n",
    "tensor_data.shape"
   ]
  },
  {
   "cell_type": "code",
   "execution_count": 129,
   "metadata": {},
   "outputs": [
    {
     "data": {
      "text/plain": [
       "numpy.ndarray"
      ]
     },
     "execution_count": 129,
     "metadata": {},
     "output_type": "execute_result"
    }
   ],
   "source": [
    "type(tensor_data)"
   ]
  },
  {
   "cell_type": "code",
   "execution_count": 130,
   "metadata": {},
   "outputs": [
    {
     "data": {
      "text/plain": [
       "(1397, 24)"
      ]
     },
     "execution_count": 130,
     "metadata": {},
     "output_type": "execute_result"
    }
   ],
   "source": [
    "data.shape"
   ]
  },
  {
   "cell_type": "code",
   "execution_count": 167,
   "metadata": {},
   "outputs": [],
   "source": [
    "model = Sequential()\n",
    "model.add(LSTM(32, activation=\"tanh\", input_shape=(365,23), return_sequences=True))\n",
    "model.add(LSTM(64, activation=\"relu\", return_sequences=True))\n",
    "model.add(LSTM(32, activation=\"relu\", return_sequences=True))\n",
    "model.add(Dropout(0.2))\n",
    "model.add(LSTM(16, return_sequences=False))\n",
    "model.add(Dense(365))"
   ]
  },
  {
   "cell_type": "code",
   "execution_count": 168,
   "metadata": {},
   "outputs": [],
   "source": [
    "model.compile(loss=\"mse\", optimizer=\"rmsprop\", metrics=[\"mse\"])"
   ]
  },
  {
   "cell_type": "code",
   "execution_count": 169,
   "metadata": {
    "scrolled": true
   },
   "outputs": [
    {
     "name": "stdout",
     "output_type": "stream",
     "text": [
      "Epoch 1/20\n",
      "3/3 [==============================] - 8s 3s/step - loss: 1.0004 - mean_squared_error: 1.0004\n",
      "Epoch 2/20\n",
      "3/3 [==============================] - 1s 286ms/step - loss: 0.9854 - mean_squared_error: 0.9854\n",
      "Epoch 3/20\n",
      "3/3 [==============================] - 1s 258ms/step - loss: 0.9559 - mean_squared_error: 0.9559\n",
      "Epoch 4/20\n",
      "3/3 [==============================] - 1s 259ms/step - loss: 0.9417 - mean_squared_error: 0.9417\n",
      "Epoch 5/20\n",
      "3/3 [==============================] - 1s 268ms/step - loss: 0.9125 - mean_squared_error: 0.9125\n",
      "Epoch 6/20\n",
      "3/3 [==============================] - 1s 268ms/step - loss: 0.8652 - mean_squared_error: 0.8652\n",
      "Epoch 7/20\n",
      "3/3 [==============================] - 1s 263ms/step - loss: 0.9097 - mean_squared_error: 0.9097\n",
      "Epoch 8/20\n",
      "3/3 [==============================] - 1s 263ms/step - loss: 0.9216 - mean_squared_error: 0.9216\n",
      "Epoch 9/20\n",
      "3/3 [==============================] - 1s 258ms/step - loss: 0.9287 - mean_squared_error: 0.9287\n",
      "Epoch 10/20\n",
      "3/3 [==============================] - 1s 258ms/step - loss: 0.8827 - mean_squared_error: 0.8827\n",
      "Epoch 11/20\n",
      "3/3 [==============================] - 1s 259ms/step - loss: 0.9480 - mean_squared_error: 0.9480\n",
      "Epoch 12/20\n",
      "3/3 [==============================] - 1s 263ms/step - loss: 0.8186 - mean_squared_error: 0.8186\n",
      "Epoch 13/20\n",
      "3/3 [==============================] - 1s 258ms/step - loss: nan - mean_squared_error: nan\n",
      "Epoch 14/20\n",
      "3/3 [==============================] - 1s 258ms/step - loss: nan - mean_squared_error: nan\n",
      "Epoch 15/20\n",
      "3/3 [==============================] - 1s 297ms/step - loss: nan - mean_squared_error: nan\n",
      "Epoch 16/20\n",
      "3/3 [==============================] - 1s 294ms/step - loss: nan - mean_squared_error: nan\n",
      "Epoch 17/20\n",
      "3/3 [==============================] - 1s 288ms/step - loss: nan - mean_squared_error: nan\n",
      "Epoch 18/20\n",
      "3/3 [==============================] - 1s 259ms/step - loss: nan - mean_squared_error: nan\n",
      "Epoch 19/20\n",
      "3/3 [==============================] - 1s 263ms/step - loss: nan - mean_squared_error: nan\n",
      "Epoch 20/20\n",
      "3/3 [==============================] - 1s 263ms/step - loss: nan - mean_squared_error: nan\n"
     ]
    },
    {
     "data": {
      "text/plain": [
       "<keras.callbacks.History at 0x56d60f60>"
      ]
     },
     "execution_count": 169,
     "metadata": {},
     "output_type": "execute_result"
    }
   ],
   "source": [
    "model.fit(tensor_data, target, epochs=20)"
   ]
  },
  {
   "cell_type": "code",
   "execution_count": 170,
   "metadata": {},
   "outputs": [
    {
     "name": "stdout",
     "output_type": "stream",
     "text": [
      "\r",
      "1/1 [==============================] - 3s 3s/step\n"
     ]
    },
    {
     "data": {
      "text/plain": [
       "[nan, nan]"
      ]
     },
     "execution_count": 170,
     "metadata": {},
     "output_type": "execute_result"
    }
   ],
   "source": [
    "model.evaluate(x=tensor_data[[2]], y=target[[2]])"
   ]
  },
  {
   "cell_type": "code",
   "execution_count": 157,
   "metadata": {},
   "outputs": [
    {
     "data": {
      "text/plain": [
       "(1, 365)"
      ]
     },
     "execution_count": 157,
     "metadata": {},
     "output_type": "execute_result"
    }
   ],
   "source": [
    "target[[0]].shape"
   ]
  },
  {
   "cell_type": "code",
   "execution_count": 91,
   "metadata": {},
   "outputs": [
    {
     "name": "stdout",
     "output_type": "stream",
     "text": [
      "_________________________________________________________________\n",
      "Layer (type)                 Output Shape              Param #   \n",
      "=================================================================\n",
      "lstm_24 (LSTM)               (None, 365, 32)           14208     \n",
      "_________________________________________________________________\n",
      "lstm_25 (LSTM)               (None, 3)                 432       \n",
      "_________________________________________________________________\n",
      "dense_7 (Dense)              (None, 1)                 4         \n",
      "=================================================================\n",
      "Total params: 14,644\n",
      "Trainable params: 14,644\n",
      "Non-trainable params: 0\n",
      "_________________________________________________________________\n"
     ]
    }
   ],
   "source": [
    "model.summary()"
   ]
  },
  {
   "cell_type": "code",
   "execution_count": null,
   "metadata": {},
   "outputs": [],
   "source": []
  },
  {
   "cell_type": "code",
   "execution_count": null,
   "metadata": {},
   "outputs": [],
   "source": []
  },
  {
   "cell_type": "code",
   "execution_count": null,
   "metadata": {},
   "outputs": [],
   "source": []
  },
  {
   "cell_type": "markdown",
   "metadata": {},
   "source": [
    "## Model Training"
   ]
  },
  {
   "cell_type": "markdown",
   "metadata": {},
   "source": [
    "Data preparation"
   ]
  },
  {
   "cell_type": "code",
   "execution_count": 3,
   "metadata": {},
   "outputs": [],
   "source": [
    "data = pd.read_csv(\"data_non_scaled.csv\", index_col=\"dt_iso\", parse_dates=True)"
   ]
  },
  {
   "cell_type": "code",
   "execution_count": 4,
   "metadata": {},
   "outputs": [
    {
     "data": {
      "text/plain": [
       "array([[-0.1552767 ],\n",
       "       [-0.08880289],\n",
       "       [ 0.14612713],\n",
       "       ...,\n",
       "       [ 0.13024752],\n",
       "       [ 0.01978865],\n",
       "       [-0.42201004]])"
      ]
     },
     "execution_count": 4,
     "metadata": {},
     "output_type": "execute_result"
    }
   ],
   "source": [
    "scaler_y = StandardScaler(with_mean=True, with_std=True)\n",
    "\n",
    "scaler_y.fit_transform(data[\"temp\"].values.reshape(-1, 1))"
   ]
  },
  {
   "cell_type": "code",
   "execution_count": 5,
   "metadata": {},
   "outputs": [
    {
     "data": {
      "text/plain": [
       "(1400, 6)"
      ]
     },
     "execution_count": 5,
     "metadata": {},
     "output_type": "execute_result"
    }
   ],
   "source": [
    "data.shape"
   ]
  },
  {
   "cell_type": "code",
   "execution_count": 17,
   "metadata": {},
   "outputs": [],
   "source": [
    "data = make_lags(data, lags=2)"
   ]
  },
  {
   "cell_type": "code",
   "execution_count": 18,
   "metadata": {},
   "outputs": [
    {
     "data": {
      "text/plain": [
       "(1396, 30)"
      ]
     },
     "execution_count": 18,
     "metadata": {},
     "output_type": "execute_result"
    }
   ],
   "source": [
    "data.shape"
   ]
  },
  {
   "cell_type": "code",
   "execution_count": 19,
   "metadata": {},
   "outputs": [],
   "source": [
    "scaler = StandardScaler(with_mean=True, with_std=True)\n",
    "\n",
    "scaled_matr = scaler.fit_transform(data)"
   ]
  },
  {
   "cell_type": "code",
   "execution_count": 20,
   "metadata": {},
   "outputs": [
    {
     "name": "stdout",
     "output_type": "stream",
     "text": [
      "(1201, 1, 29) (1201,) (195, 1, 29) (195,)\n"
     ]
    }
   ],
   "source": [
    "train = scaled_matr[:1201, :]\n",
    "train_index = data.iloc[:1201, :].index\n",
    "test = scaled_matr[1201:, :]\n",
    "test_index = data.iloc[1201:, :].index\n",
    "# split into input and outputs\n",
    "train_X, train_y = train[:, 1:], train[:, 1]\n",
    "test_X, test_y = test[:, 1:], test[:, 1]\n",
    "# reshape input to be 3D [samples, timesteps, features]\n",
    "train_X = train_X.reshape((train_X.shape[0], 1, train_X.shape[1]))\n",
    "test_X = test_X.reshape((test_X.shape[0], 1, test_X.shape[1]))\n",
    "print(train_X.shape, train_y.shape, test_X.shape, test_y.shape)"
   ]
  },
  {
   "cell_type": "code",
   "execution_count": 21,
   "metadata": {},
   "outputs": [],
   "source": [
    "model = Sequential()\n",
    "\n",
    "model.add(LSTM(64, activation=\"relu\", return_sequences=True, input_shape=(1, train_X.shape[2])))\n",
    "model.add(Dropout(0.2))\n",
    "model.add(LSTM(64, activation=\"relu\", return_sequences=True))\n",
    "model.add(Dropout(0.1))\n",
    "#model.add(LSTM(64, activation=\"relu\", return_sequences=True))\n",
    "model.add(LSTM(16, activation=\"relu\"))\n",
    "model.add(Dense(1))"
   ]
  },
  {
   "cell_type": "code",
   "execution_count": 22,
   "metadata": {},
   "outputs": [],
   "source": [
    "model.compile(loss=\"mse\",\n",
    "              optimizer=\"rmsprop\",\n",
    "              metrics=[\"mae\"])"
   ]
  },
  {
   "cell_type": "code",
   "execution_count": 23,
   "metadata": {},
   "outputs": [
    {
     "name": "stdout",
     "output_type": "stream",
     "text": [
      "Epoch 1/35\n",
      "1201/1201 [==============================] - 3s 3ms/step - loss: 0.9235 - mean_absolute_error: 0.4952\n",
      "Epoch 2/35\n",
      "1201/1201 [==============================] - 0s 270us/step - loss: 0.5110 - mean_absolute_error: 0.3445\n",
      "Epoch 3/35\n",
      "1201/1201 [==============================] - 0s 251us/step - loss: 0.2798 - mean_absolute_error: 0.2588\n",
      "Epoch 4/35\n",
      "1201/1201 [==============================] - 0s 260us/step - loss: 0.2472 - mean_absolute_error: 0.2344\n",
      "Epoch 5/35\n",
      "1201/1201 [==============================] - 0s 270us/step - loss: 0.2149 - mean_absolute_error: 0.2144\n",
      "Epoch 6/35\n",
      "1201/1201 [==============================] - 0s 259us/step - loss: 0.1910 - mean_absolute_error: 0.2035\n",
      "Epoch 7/35\n",
      "1201/1201 [==============================] - 0s 259us/step - loss: 0.1502 - mean_absolute_error: 0.1867\n",
      "Epoch 8/35\n",
      "1201/1201 [==============================] - 0s 263us/step - loss: 0.1163 - mean_absolute_error: 0.1721\n",
      "Epoch 9/35\n",
      "1201/1201 [==============================] - 0s 262us/step - loss: 0.0994 - mean_absolute_error: 0.1631\n",
      "Epoch 10/35\n",
      "1201/1201 [==============================] - 0s 256us/step - loss: 0.0747 - mean_absolute_error: 0.1457\n",
      "Epoch 11/35\n",
      "1201/1201 [==============================] - 0s 260us/step - loss: 0.0556 - mean_absolute_error: 0.1304\n",
      "Epoch 12/35\n",
      "1201/1201 [==============================] - 0s 260us/step - loss: 0.0525 - mean_absolute_error: 0.1272\n",
      "Epoch 13/35\n",
      "1201/1201 [==============================] - 0s 263us/step - loss: 0.0352 - mean_absolute_error: 0.1126\n",
      "Epoch 14/35\n",
      "1201/1201 [==============================] - 0s 265us/step - loss: 0.0315 - mean_absolute_error: 0.1087\n",
      "Epoch 15/35\n",
      "1201/1201 [==============================] - 0s 263us/step - loss: 0.0275 - mean_absolute_error: 0.0993\n",
      "Epoch 16/35\n",
      "1201/1201 [==============================] - 0s 257us/step - loss: 0.0259 - mean_absolute_error: 0.0993\n",
      "Epoch 17/35\n",
      "1201/1201 [==============================] - 0s 265us/step - loss: 0.0196 - mean_absolute_error: 0.0891\n",
      "Epoch 18/35\n",
      "1201/1201 [==============================] - 0s 258us/step - loss: 0.0223 - mean_absolute_error: 0.0901\n",
      "Epoch 19/35\n",
      "1201/1201 [==============================] - 0s 293us/step - loss: 0.0178 - mean_absolute_error: 0.0826\n",
      "Epoch 20/35\n",
      "1201/1201 [==============================] - 0s 273us/step - loss: 0.0158 - mean_absolute_error: 0.0810\n",
      "Epoch 21/35\n",
      "1201/1201 [==============================] - 0s 295us/step - loss: 0.0131 - mean_absolute_error: 0.0732\n",
      "Epoch 22/35\n",
      "1201/1201 [==============================] - 0s 271us/step - loss: 0.0172 - mean_absolute_error: 0.0775\n",
      "Epoch 23/35\n",
      "1201/1201 [==============================] - 0s 259us/step - loss: 0.0138 - mean_absolute_error: 0.0732\n",
      "Epoch 24/35\n",
      "1201/1201 [==============================] - 0s 275us/step - loss: 0.0136 - mean_absolute_error: 0.0725\n",
      "Epoch 25/35\n",
      "1201/1201 [==============================] - 0s 271us/step - loss: 0.0119 - mean_absolute_error: 0.0687\n",
      "Epoch 26/35\n",
      "1201/1201 [==============================] - 0s 260us/step - loss: 0.0128 - mean_absolute_error: 0.0705\n",
      "Epoch 27/35\n",
      "1201/1201 [==============================] - 0s 266us/step - loss: 0.0128 - mean_absolute_error: 0.0681\n",
      "Epoch 28/35\n",
      "1201/1201 [==============================] - 0s 271us/step - loss: 0.0118 - mean_absolute_error: 0.0671\n",
      "Epoch 29/35\n",
      "1201/1201 [==============================] - 0s 291us/step - loss: 0.0107 - mean_absolute_error: 0.0659\n",
      "Epoch 30/35\n",
      "1201/1201 [==============================] - 0s 315us/step - loss: 0.0096 - mean_absolute_error: 0.0602\n",
      "Epoch 31/35\n",
      "1201/1201 [==============================] - 0s 284us/step - loss: 0.0121 - mean_absolute_error: 0.0641\n",
      "Epoch 32/35\n",
      "1201/1201 [==============================] - 0s 302us/step - loss: 0.0090 - mean_absolute_error: 0.0609\n",
      "Epoch 33/35\n",
      "1201/1201 [==============================] - 0s 291us/step - loss: 0.0103 - mean_absolute_error: 0.0612\n",
      "Epoch 34/35\n",
      "1201/1201 [==============================] - 0s 303us/step - loss: 0.0082 - mean_absolute_error: 0.0577\n",
      "Epoch 35/35\n",
      "1201/1201 [==============================] - 0s 285us/step - loss: 0.0089 - mean_absolute_error: 0.0582\n"
     ]
    },
    {
     "data": {
      "text/plain": [
       "<keras.callbacks.History at 0x148bb550>"
      ]
     },
     "execution_count": 23,
     "metadata": {},
     "output_type": "execute_result"
    }
   ],
   "source": [
    "model.fit(train_X, train_y,\n",
    "          epochs=35)"
   ]
  },
  {
   "cell_type": "code",
   "execution_count": 24,
   "metadata": {},
   "outputs": [
    {
     "name": "stdout",
     "output_type": "stream",
     "text": [
      "195/195 [==============================] - 1s 3ms/step\n"
     ]
    },
    {
     "data": {
      "text/plain": [
       "[0.007414238273243731, 0.04776236987553346]"
      ]
     },
     "execution_count": 24,
     "metadata": {},
     "output_type": "execute_result"
    }
   ],
   "source": [
    "model.evaluate(test_X, test_y)"
   ]
  },
  {
   "cell_type": "code",
   "execution_count": 25,
   "metadata": {},
   "outputs": [
    {
     "name": "stdout",
     "output_type": "stream",
     "text": [
      "_________________________________________________________________\n",
      "Layer (type)                 Output Shape              Param #   \n",
      "=================================================================\n",
      "lstm_4 (LSTM)                (None, 1, 64)             24064     \n",
      "_________________________________________________________________\n",
      "dropout_3 (Dropout)          (None, 1, 64)             0         \n",
      "_________________________________________________________________\n",
      "lstm_5 (LSTM)                (None, 1, 64)             33024     \n",
      "_________________________________________________________________\n",
      "dropout_4 (Dropout)          (None, 1, 64)             0         \n",
      "_________________________________________________________________\n",
      "lstm_6 (LSTM)                (None, 16)                5184      \n",
      "_________________________________________________________________\n",
      "dense_2 (Dense)              (None, 1)                 17        \n",
      "=================================================================\n",
      "Total params: 62,289\n",
      "Trainable params: 62,289\n",
      "Non-trainable params: 0\n",
      "_________________________________________________________________\n"
     ]
    }
   ],
   "source": [
    "model.summary()"
   ]
  },
  {
   "cell_type": "code",
   "execution_count": 26,
   "metadata": {},
   "outputs": [],
   "source": [
    "pred = model.predict(test_X)\n",
    "pred = scaler_y.inverse_transform(pred)\n",
    "actual = scaler_y.inverse_transform(test_y)"
   ]
  },
  {
   "cell_type": "code",
   "execution_count": 34,
   "metadata": {},
   "outputs": [
    {
     "data": {
      "image/png": "[encoded data removed]",
      "text/plain": [
       "<Figure size 720x432 with 1 Axes>"
      ]
     },
     "metadata": {},
     "output_type": "display_data"
    },
    {
     "data": {
      "text/plain": [
       "<Figure size 432x288 with 0 Axes>"
      ]
     },
     "metadata": {},
     "output_type": "display_data"
    }
   ],
   "source": [
    "plt.figure(figsize=(10,6))  \n",
    "plt.plot(pd.Series(actual, index=test_index), color='blue', label='Actual Temperatures')  \n",
    "plt.plot(pd.Series(pred.reshape(pred.shape[0],), index=test_index), color='red', label='Predicted Temperatures')  \n",
    "plt.title('Temperature Predictions')  \n",
    "plt.xlabel('Date')  \n",
    "plt.ylabel('Temperatures')  \n",
    "plt.legend()  \n",
    "plt.show() \n",
    "plt.savefig(\"fig6.jpg\")"
   ]
  },
  {
   "cell_type": "code",
   "execution_count": 28,
   "metadata": {},
   "outputs": [],
   "source": [
    "model.save(\"weather_forecast_weights.h5\")"
   ]
  },
  {
   "cell_type": "code",
   "execution_count": 32,
   "metadata": {},
   "outputs": [
    {
     "data": {
      "text/plain": [
       "11.490768082632393"
      ]
     },
     "execution_count": 32,
     "metadata": {},
     "output_type": "execute_result"
    }
   ],
   "source": [
    "abs((actual - pred)).mean()"
   ]
  },
  {
   "cell_type": "code",
   "execution_count": null,
   "metadata": {},
   "outputs": [],
   "source": []
  }
 ],
 "metadata": {
  "kernelspec": {
   "display_name": "Python 3",
   "language": "python",
   "name": "python3"
  },
  "language_info": {
   "codemirror_mode": {
    "name": "ipython",
    "version": 3
   },
   "file_extension": ".py",
   "mimetype": "text/x-python",
   "name": "python",
   "nbconvert_exporter": "python",
   "pygments_lexer": "ipython3",
   "version": "3.6.5"
  }
 },
 "nbformat": 4,
 "nbformat_minor": 2
}
