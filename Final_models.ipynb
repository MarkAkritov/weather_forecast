{
 "cells": [
  {
   "cell_type": "code",
   "execution_count": 1,
   "metadata": {},
   "outputs": [
    {
     "name": "stderr",
     "output_type": "stream",
     "text": [
      "C:\\Users\\Dell\\Anaconda3\\lib\\site-packages\\ipykernel_launcher.py:7: FutureWarning: The pandas.core.datetools module is deprecated and will be removed in a future version. Please use the pandas.tseries module instead.\n",
      "  import sys\n"
     ]
    }
   ],
   "source": [
    "#Import the main libraries. \n",
    "import pandas as pd\n",
    "import numpy as np\n",
    "from pandas import read_csv\n",
    "from pandas import datetime\n",
    "from matplotlib import pyplot\n",
    "from pandas.core import datetools\n",
    "from pandas import Series, DataFrame\n",
    "import matplotlib.pyplot as plt\n",
    "\n",
    "from statsmodels.graphics.tsaplots import plot_acf\n",
    "\n",
    "\n",
    "# Data Management\n",
    "import pandas as pd\n",
    "import numpy as np\n",
    "\n",
    "# Data Visualization\n",
    "import matplotlib.pyplot as plt\n",
    "%matplotlib inline\n",
    "import seaborn as sns\n",
    "sns.set_style(\"whitegrid\")\n",
    "\n",
    "# Data splitting\n",
    "from sklearn.model_selection import train_test_split\n",
    "\n",
    "# Hyperparameter selection\n",
    "from sklearn.model_selection import GridSearchCV\n",
    "\n",
    "# Feature Selection\n",
    "from sklearn.feature_selection import SelectKBest, chi2, RFE\n",
    "\n",
    "# Modeling\n",
    "from sklearn.tree import DecisionTreeClassifier\n",
    "from sklearn.neighbors import KNeighborsClassifier\n",
    "from sklearn.linear_model import LogisticRegression\n",
    "from sklearn.ensemble import RandomForestClassifier\n",
    "from sklearn.naive_bayes import GaussianNB\n",
    "\n",
    "from statsmodels.discrete.discrete_model import Logit\n",
    "import statsmodels.tools as sm\n",
    "\n",
    "# Model Evaluation\n",
    "from sklearn.metrics import accuracy_score, classification_report, precision_score, recall_score, confusion_matrix, roc_auc_score, roc_curve\n",
    "import itertools\n",
    "\n",
    "\n",
    "from statsmodels.graphics.tsaplots import plot_acf\n",
    "\n",
    "import statsmodels.api as sm\n",
    "\n",
    "from statsmodels.tsa.stattools import adfuller"
   ]
  },
  {
   "cell_type": "code",
   "execution_count": 58,
   "metadata": {},
   "outputs": [],
   "source": [
    "data0 = pd.read_csv('weatherYerevan_2014-2019.csv')\n",
    "data = pd.read_csv(\"final_data.csv\", index_col=\"dt_iso\", pa)"
   ]
  },
  {
   "cell_type": "code",
   "execution_count": 29,
   "metadata": {},
   "outputs": [],
   "source": [
    "data0.dt_iso = pd.to_datetime(data0.dt_iso, \n",
    "                             format=\"%Y-%m-%d %H:%M:%S +0000 UTC\")\n",
    "data0.set_index([\"dt_iso\"], inplace=True)\n",
    "data0.drop([\"dt\"], axis=1, inplace=True)"
   ]
  },
  {
   "cell_type": "code",
   "execution_count": 33,
   "metadata": {},
   "outputs": [
    {
     "data": {
      "text/html": [
       "<div>\n",
       "<style scoped>\n",
       "    .dataframe tbody tr th:only-of-type {\n",
       "        vertical-align: middle;\n",
       "    }\n",
       "\n",
       "    .dataframe tbody tr th {\n",
       "        vertical-align: top;\n",
       "    }\n",
       "\n",
       "    .dataframe thead th {\n",
       "        text-align: right;\n",
       "    }\n",
       "</style>\n",
       "<table border=\"1\" class=\"dataframe\">\n",
       "  <thead>\n",
       "    <tr style=\"text-align: right;\">\n",
       "      <th></th>\n",
       "      <th>temp</th>\n",
       "      <th>pressure</th>\n",
       "      <th>humidity</th>\n",
       "      <th>wind_speed</th>\n",
       "      <th>wind_deg</th>\n",
       "      <th>clouds_all</th>\n",
       "    </tr>\n",
       "  </thead>\n",
       "  <tbody>\n",
       "    <tr>\n",
       "      <th>temp</th>\n",
       "      <td>1.000000</td>\n",
       "      <td>0.006341</td>\n",
       "      <td>-0.801133</td>\n",
       "      <td>0.688277</td>\n",
       "      <td>-0.185884</td>\n",
       "      <td>-0.346875</td>\n",
       "    </tr>\n",
       "    <tr>\n",
       "      <th>pressure</th>\n",
       "      <td>0.006341</td>\n",
       "      <td>1.000000</td>\n",
       "      <td>-0.145099</td>\n",
       "      <td>0.055970</td>\n",
       "      <td>-0.118918</td>\n",
       "      <td>-0.093567</td>\n",
       "    </tr>\n",
       "    <tr>\n",
       "      <th>humidity</th>\n",
       "      <td>-0.801133</td>\n",
       "      <td>-0.145099</td>\n",
       "      <td>1.000000</td>\n",
       "      <td>-0.669699</td>\n",
       "      <td>0.152411</td>\n",
       "      <td>0.557254</td>\n",
       "    </tr>\n",
       "    <tr>\n",
       "      <th>wind_speed</th>\n",
       "      <td>0.688277</td>\n",
       "      <td>0.055970</td>\n",
       "      <td>-0.669699</td>\n",
       "      <td>1.000000</td>\n",
       "      <td>-0.040831</td>\n",
       "      <td>-0.198775</td>\n",
       "    </tr>\n",
       "    <tr>\n",
       "      <th>wind_deg</th>\n",
       "      <td>-0.185884</td>\n",
       "      <td>-0.118918</td>\n",
       "      <td>0.152411</td>\n",
       "      <td>-0.040831</td>\n",
       "      <td>1.000000</td>\n",
       "      <td>0.257076</td>\n",
       "    </tr>\n",
       "    <tr>\n",
       "      <th>clouds_all</th>\n",
       "      <td>-0.346875</td>\n",
       "      <td>-0.093567</td>\n",
       "      <td>0.557254</td>\n",
       "      <td>-0.198775</td>\n",
       "      <td>0.257076</td>\n",
       "      <td>1.000000</td>\n",
       "    </tr>\n",
       "  </tbody>\n",
       "</table>\n",
       "</div>"
      ],
      "text/plain": [
       "                temp  pressure  humidity  wind_speed  wind_deg  clouds_all\n",
       "temp        1.000000  0.006341 -0.801133    0.688277 -0.185884   -0.346875\n",
       "pressure    0.006341  1.000000 -0.145099    0.055970 -0.118918   -0.093567\n",
       "humidity   -0.801133 -0.145099  1.000000   -0.669699  0.152411    0.557254\n",
       "wind_speed  0.688277  0.055970 -0.669699    1.000000 -0.040831   -0.198775\n",
       "wind_deg   -0.185884 -0.118918  0.152411   -0.040831  1.000000    0.257076\n",
       "clouds_all -0.346875 -0.093567  0.557254   -0.198775  0.257076    1.000000"
      ]
     },
     "execution_count": 33,
     "metadata": {},
     "output_type": "execute_result"
    }
   ],
   "source": [
    "data.corr()"
   ]
  },
  {
   "cell_type": "code",
   "execution_count": 34,
   "metadata": {},
   "outputs": [],
   "source": [
    "# First 3 lags of y\n",
    "for i in range(1, 4):\n",
    "    data[\"lag_temp\" + str(i)] = data[\"temp\"].shift(i)\n",
    "\n",
    "# Fitrs 3 lags for x\n",
    "for i in range(1, 4):\n",
    "    data[\"lag_clouds\" + str(i)] = data[\"clouds_all\"].shift(i)\n",
    "for i in range(1, 4):\n",
    "    data[\"lag_press\" + str(i)] = data[\"pressure\"].shift(i)\n",
    "for i in range(1, 2):\n",
    "    data[\"lag_hum\" + str(i)] = data[\"humidity\"].shift(i)\n",
    "for i in range(1, 2):\n",
    "    data[\"lag_speed\" + str(i)] = data[\"wind_speed\"].shift(i)\n",
    "for i in range(1, 2):\n",
    "    data[\"lag_deg\" + str(i)] = data[\"wind_deg\"].shift(i)\n",
    "    "
   ]
  },
  {
   "cell_type": "code",
   "execution_count": 35,
   "metadata": {},
   "outputs": [],
   "source": [
    "# drop columns and nan values\n",
    "data.dropna(inplace=True)"
   ]
  },
  {
   "cell_type": "code",
   "execution_count": 36,
   "metadata": {},
   "outputs": [],
   "source": [
    "Y = data[\"temp\"]"
   ]
  },
  {
   "cell_type": "code",
   "execution_count": 37,
   "metadata": {},
   "outputs": [
    {
     "name": "stdout",
     "output_type": "stream",
     "text": [
      "ADF Statistic: -2.012511\n",
      "p-value: 0.281114\n",
      "Critical Values:\n",
      "\t1%: -3.435\n",
      "\t5%: -2.864\n",
      "\t10%: -2.568\n"
     ]
    }
   ],
   "source": [
    "result = adfuller(Y)\n",
    "print('ADF Statistic: %f' % result[0])\n",
    "print('p-value: %f' % result[1])\n",
    "print('Critical Values:')\n",
    "for key, value in result[4].items():\n",
    "    print('\\t%s: %.3f' % (key, value))"
   ]
  },
  {
   "cell_type": "markdown",
   "metadata": {},
   "source": [
    "The ADF Statistics value should be less than the t_critical to reject the H0 and say that the process has no unit root, and in turn that the time series is stationary or does not have time-dependent structure."
   ]
  },
  {
   "cell_type": "markdown",
   "metadata": {},
   "source": [
    "# ARDL"
   ]
  },
  {
   "cell_type": "code",
   "execution_count": 39,
   "metadata": {},
   "outputs": [
    {
     "data": {
      "text/html": [
       "<table class=\"simpletable\">\n",
       "<caption>OLS Regression Results</caption>\n",
       "<tr>\n",
       "  <th>Dep. Variable:</th>          <td>temp</td>       <th>  R-squared:         </th> <td>   0.982</td>\n",
       "</tr>\n",
       "<tr>\n",
       "  <th>Model:</th>                   <td>OLS</td>       <th>  Adj. R-squared:    </th> <td>   0.981</td>\n",
       "</tr>\n",
       "<tr>\n",
       "  <th>Method:</th>             <td>Least Squares</td>  <th>  F-statistic:       </th> <td>   7383.</td>\n",
       "</tr>\n",
       "<tr>\n",
       "  <th>Date:</th>             <td>Tue, 07 May 2019</td> <th>  Prob (F-statistic):</th>  <td>  0.00</td> \n",
       "</tr>\n",
       "<tr>\n",
       "  <th>Time:</th>                 <td>23:04:59</td>     <th>  Log-Likelihood:    </th> <td>  805.57</td>\n",
       "</tr>\n",
       "<tr>\n",
       "  <th>No. Observations:</th>      <td>  1397</td>      <th>  AIC:               </th> <td>  -1591.</td>\n",
       "</tr>\n",
       "<tr>\n",
       "  <th>Df Residuals:</th>          <td>  1387</td>      <th>  BIC:               </th> <td>  -1539.</td>\n",
       "</tr>\n",
       "<tr>\n",
       "  <th>Df Model:</th>              <td>    10</td>      <th>                     </th>     <td> </td>   \n",
       "</tr>\n",
       "<tr>\n",
       "  <th>Covariance Type:</th>      <td>nonrobust</td>    <th>                     </th>     <td> </td>   \n",
       "</tr>\n",
       "</table>\n",
       "<table class=\"simpletable\">\n",
       "<tr>\n",
       "       <td></td>          <th>coef</th>     <th>std err</th>      <th>t</th>      <th>P>|t|</th>  <th>[0.025</th>    <th>0.975]</th>  \n",
       "</tr>\n",
       "<tr>\n",
       "  <th>pressure</th>    <td>    0.0317</td> <td>    0.009</td> <td>    3.397</td> <td> 0.001</td> <td>    0.013</td> <td>    0.050</td>\n",
       "</tr>\n",
       "<tr>\n",
       "  <th>humidity</th>    <td>   -0.2004</td> <td>    0.009</td> <td>  -21.667</td> <td> 0.000</td> <td>   -0.219</td> <td>   -0.182</td>\n",
       "</tr>\n",
       "<tr>\n",
       "  <th>wind_deg</th>    <td>   -0.0224</td> <td>    0.004</td> <td>   -5.322</td> <td> 0.000</td> <td>   -0.031</td> <td>   -0.014</td>\n",
       "</tr>\n",
       "<tr>\n",
       "  <th>clouds_all</th>  <td>    0.0589</td> <td>    0.006</td> <td>   10.628</td> <td> 0.000</td> <td>    0.048</td> <td>    0.070</td>\n",
       "</tr>\n",
       "<tr>\n",
       "  <th>lag_temp1</th>   <td>    0.9653</td> <td>    0.007</td> <td>  137.511</td> <td> 0.000</td> <td>    0.952</td> <td>    0.979</td>\n",
       "</tr>\n",
       "<tr>\n",
       "  <th>lag_clouds1</th> <td>   -0.0456</td> <td>    0.006</td> <td>   -7.924</td> <td> 0.000</td> <td>   -0.057</td> <td>   -0.034</td>\n",
       "</tr>\n",
       "<tr>\n",
       "  <th>lag_press1</th>  <td>   -0.0366</td> <td>    0.009</td> <td>   -3.931</td> <td> 0.000</td> <td>   -0.055</td> <td>   -0.018</td>\n",
       "</tr>\n",
       "<tr>\n",
       "  <th>lag_hum1</th>    <td>    0.1343</td> <td>    0.010</td> <td>   13.479</td> <td> 0.000</td> <td>    0.115</td> <td>    0.154</td>\n",
       "</tr>\n",
       "<tr>\n",
       "  <th>lag_speed1</th>  <td>   -0.0424</td> <td>    0.005</td> <td>   -7.789</td> <td> 0.000</td> <td>   -0.053</td> <td>   -0.032</td>\n",
       "</tr>\n",
       "<tr>\n",
       "  <th>lag_deg1</th>    <td>   -0.0121</td> <td>    0.004</td> <td>   -2.838</td> <td> 0.005</td> <td>   -0.020</td> <td>   -0.004</td>\n",
       "</tr>\n",
       "</table>\n",
       "<table class=\"simpletable\">\n",
       "<tr>\n",
       "  <th>Omnibus:</th>       <td>66.391</td> <th>  Durbin-Watson:     </th> <td>   1.641</td>\n",
       "</tr>\n",
       "<tr>\n",
       "  <th>Prob(Omnibus):</th> <td> 0.000</td> <th>  Jarque-Bera (JB):  </th> <td> 122.235</td>\n",
       "</tr>\n",
       "<tr>\n",
       "  <th>Skew:</th>          <td>-0.348</td> <th>  Prob(JB):          </th> <td>2.86e-27</td>\n",
       "</tr>\n",
       "<tr>\n",
       "  <th>Kurtosis:</th>      <td> 4.271</td> <th>  Cond. No.          </th> <td>    7.72</td>\n",
       "</tr>\n",
       "</table><br/><br/>Warnings:<br/>[1] Standard Errors assume that the covariance matrix of the errors is correctly specified."
      ],
      "text/plain": [
       "<class 'statsmodels.iolib.summary.Summary'>\n",
       "\"\"\"\n",
       "                            OLS Regression Results                            \n",
       "==============================================================================\n",
       "Dep. Variable:                   temp   R-squared:                       0.982\n",
       "Model:                            OLS   Adj. R-squared:                  0.981\n",
       "Method:                 Least Squares   F-statistic:                     7383.\n",
       "Date:                Tue, 07 May 2019   Prob (F-statistic):               0.00\n",
       "Time:                        23:04:59   Log-Likelihood:                 805.57\n",
       "No. Observations:                1397   AIC:                            -1591.\n",
       "Df Residuals:                    1387   BIC:                            -1539.\n",
       "Df Model:                          10                                         \n",
       "Covariance Type:            nonrobust                                         \n",
       "===============================================================================\n",
       "                  coef    std err          t      P>|t|      [0.025      0.975]\n",
       "-------------------------------------------------------------------------------\n",
       "pressure        0.0317      0.009      3.397      0.001       0.013       0.050\n",
       "humidity       -0.2004      0.009    -21.667      0.000      -0.219      -0.182\n",
       "wind_deg       -0.0224      0.004     -5.322      0.000      -0.031      -0.014\n",
       "clouds_all      0.0589      0.006     10.628      0.000       0.048       0.070\n",
       "lag_temp1       0.9653      0.007    137.511      0.000       0.952       0.979\n",
       "lag_clouds1    -0.0456      0.006     -7.924      0.000      -0.057      -0.034\n",
       "lag_press1     -0.0366      0.009     -3.931      0.000      -0.055      -0.018\n",
       "lag_hum1        0.1343      0.010     13.479      0.000       0.115       0.154\n",
       "lag_speed1     -0.0424      0.005     -7.789      0.000      -0.053      -0.032\n",
       "lag_deg1       -0.0121      0.004     -2.838      0.005      -0.020      -0.004\n",
       "==============================================================================\n",
       "Omnibus:                       66.391   Durbin-Watson:                   1.641\n",
       "Prob(Omnibus):                  0.000   Jarque-Bera (JB):              122.235\n",
       "Skew:                          -0.348   Prob(JB):                     2.86e-27\n",
       "Kurtosis:                       4.271   Cond. No.                         7.72\n",
       "==============================================================================\n",
       "\n",
       "Warnings:\n",
       "[1] Standard Errors assume that the covariance matrix of the errors is correctly specified.\n",
       "\"\"\""
      ]
     },
     "execution_count": 39,
     "metadata": {},
     "output_type": "execute_result"
    }
   ],
   "source": [
    "X = data.drop([\"temp\", \"lag_temp2\", \"wind_speed\", \"lag_press2\", \"lag_press3\", \"lag_temp3\", \"lag_clouds2\", \"lag_clouds3\"], axis=1)\n",
    "model = sm.OLS(Y, X)\n",
    "results = model.fit()\n",
    "results.summary()"
   ]
  },
  {
   "cell_type": "markdown",
   "metadata": {},
   "source": [
    "# SARIMAX"
   ]
  },
  {
   "cell_type": "code",
   "execution_count": 40,
   "metadata": {},
   "outputs": [],
   "source": [
    "data = pd.read_csv(\"final_data.csv\")"
   ]
  },
  {
   "cell_type": "code",
   "execution_count": 41,
   "metadata": {
    "scrolled": false
   },
   "outputs": [
    {
     "data": {
      "text/html": [
       "<table class=\"simpletable\">\n",
       "<caption>Statespace Model Results</caption>\n",
       "<tr>\n",
       "  <th>Dep. Variable:</th>         <td>temp</td>       <th>  No. Observations:  </th>   <td>1400</td>   \n",
       "</tr>\n",
       "<tr>\n",
       "  <th>Model:</th>           <td>SARIMAX(2, 0, 0)</td> <th>  Log Likelihood     </th>  <td>763.684</td> \n",
       "</tr>\n",
       "<tr>\n",
       "  <th>Date:</th>            <td>Tue, 07 May 2019</td> <th>  AIC                </th> <td>-1509.369</td>\n",
       "</tr>\n",
       "<tr>\n",
       "  <th>Time:</th>                <td>23:05:08</td>     <th>  BIC                </th> <td>-1462.171</td>\n",
       "</tr>\n",
       "<tr>\n",
       "  <th>Sample:</th>                  <td>0</td>        <th>  HQIC               </th> <td>-1491.725</td>\n",
       "</tr>\n",
       "<tr>\n",
       "  <th></th>                      <td> - 1400</td>     <th>                     </th>     <td> </td>    \n",
       "</tr>\n",
       "<tr>\n",
       "  <th>Covariance Type:</th>        <td>opg</td>       <th>                     </th>     <td> </td>    \n",
       "</tr>\n",
       "</table>\n",
       "<table class=\"simpletable\">\n",
       "<tr>\n",
       "       <td></td>         <th>coef</th>     <th>std err</th>      <th>z</th>      <th>P>|z|</th>  <th>[0.025</th>    <th>0.975]</th>  \n",
       "</tr>\n",
       "<tr>\n",
       "  <th>intercept</th>  <td> 5.554e-05</td> <td>    0.004</td> <td>    0.014</td> <td> 0.989</td> <td>   -0.008</td> <td>    0.008</td>\n",
       "</tr>\n",
       "<tr>\n",
       "  <th>pressure</th>   <td>    0.0309</td> <td>    0.007</td> <td>    4.756</td> <td> 0.000</td> <td>    0.018</td> <td>    0.044</td>\n",
       "</tr>\n",
       "<tr>\n",
       "  <th>humidity</th>   <td>   -0.1720</td> <td>    0.007</td> <td>  -24.300</td> <td> 0.000</td> <td>   -0.186</td> <td>   -0.158</td>\n",
       "</tr>\n",
       "<tr>\n",
       "  <th>wind_speed</th> <td>    0.0193</td> <td>    0.005</td> <td>    4.218</td> <td> 0.000</td> <td>    0.010</td> <td>    0.028</td>\n",
       "</tr>\n",
       "<tr>\n",
       "  <th>wind_deg</th>   <td>   -0.0062</td> <td>    0.003</td> <td>   -2.007</td> <td> 0.045</td> <td>   -0.012</td> <td>   -0.000</td>\n",
       "</tr>\n",
       "<tr>\n",
       "  <th>clouds_all</th> <td>    0.0538</td> <td>    0.005</td> <td>   11.800</td> <td> 0.000</td> <td>    0.045</td> <td>    0.063</td>\n",
       "</tr>\n",
       "<tr>\n",
       "  <th>ar.L1</th>      <td>    1.1620</td> <td>    0.024</td> <td>   48.823</td> <td> 0.000</td> <td>    1.115</td> <td>    1.209</td>\n",
       "</tr>\n",
       "<tr>\n",
       "  <th>ar.L2</th>      <td>   -0.1783</td> <td>    0.024</td> <td>   -7.494</td> <td> 0.000</td> <td>   -0.225</td> <td>   -0.132</td>\n",
       "</tr>\n",
       "<tr>\n",
       "  <th>sigma2</th>     <td>    0.0196</td> <td>    0.001</td> <td>   33.576</td> <td> 0.000</td> <td>    0.018</td> <td>    0.021</td>\n",
       "</tr>\n",
       "</table>\n",
       "<table class=\"simpletable\">\n",
       "<tr>\n",
       "  <th>Ljung-Box (Q):</th>          <td>109.45</td> <th>  Jarque-Bera (JB):  </th> <td>177.54</td>\n",
       "</tr>\n",
       "<tr>\n",
       "  <th>Prob(Q):</th>                 <td>0.00</td>  <th>  Prob(JB):          </th>  <td>0.00</td> \n",
       "</tr>\n",
       "<tr>\n",
       "  <th>Heteroskedasticity (H):</th>  <td>0.79</td>  <th>  Skew:              </th>  <td>-0.40</td>\n",
       "</tr>\n",
       "<tr>\n",
       "  <th>Prob(H) (two-sided):</th>     <td>0.01</td>  <th>  Kurtosis:          </th>  <td>4.55</td> \n",
       "</tr>\n",
       "</table><br/><br/>Warnings:<br/>[1] Covariance matrix calculated using the outer product of gradients (complex-step)."
      ],
      "text/plain": [
       "<class 'statsmodels.iolib.summary.Summary'>\n",
       "\"\"\"\n",
       "                           Statespace Model Results                           \n",
       "==============================================================================\n",
       "Dep. Variable:                   temp   No. Observations:                 1400\n",
       "Model:               SARIMAX(2, 0, 0)   Log Likelihood                 763.684\n",
       "Date:                Tue, 07 May 2019   AIC                          -1509.369\n",
       "Time:                        23:05:08   BIC                          -1462.171\n",
       "Sample:                             0   HQIC                         -1491.725\n",
       "                               - 1400                                         \n",
       "Covariance Type:                  opg                                         \n",
       "==============================================================================\n",
       "                 coef    std err          z      P>|z|      [0.025      0.975]\n",
       "------------------------------------------------------------------------------\n",
       "intercept   5.554e-05      0.004      0.014      0.989      -0.008       0.008\n",
       "pressure       0.0309      0.007      4.756      0.000       0.018       0.044\n",
       "humidity      -0.1720      0.007    -24.300      0.000      -0.186      -0.158\n",
       "wind_speed     0.0193      0.005      4.218      0.000       0.010       0.028\n",
       "wind_deg      -0.0062      0.003     -2.007      0.045      -0.012      -0.000\n",
       "clouds_all     0.0538      0.005     11.800      0.000       0.045       0.063\n",
       "ar.L1          1.1620      0.024     48.823      0.000       1.115       1.209\n",
       "ar.L2         -0.1783      0.024     -7.494      0.000      -0.225      -0.132\n",
       "sigma2         0.0196      0.001     33.576      0.000       0.018       0.021\n",
       "===================================================================================\n",
       "Ljung-Box (Q):                      109.45   Jarque-Bera (JB):               177.54\n",
       "Prob(Q):                              0.00   Prob(JB):                         0.00\n",
       "Heteroskedasticity (H):               0.79   Skew:                            -0.40\n",
       "Prob(H) (two-sided):                  0.01   Kurtosis:                         4.55\n",
       "===================================================================================\n",
       "\n",
       "Warnings:\n",
       "[1] Covariance matrix calculated using the outer product of gradients (complex-step).\n",
       "\"\"\""
      ]
     },
     "execution_count": 41,
     "metadata": {},
     "output_type": "execute_result"
    }
   ],
   "source": [
    "model=sm.tsa.statespace.SARIMAX(endog=data['temp'],exog=data.drop(['dt_iso', 'temp'], axis=1),order=(2,0,0),seasonal_order=(0,0,0,0),trend='c',enforce_invertibility=False)\n",
    "results=model.fit()\n",
    "results.summary()\n",
    "model=sm.tsa.statespace.SARIMAX(endog=data['temp'],exog=data.drop(['dt_iso', 'temp'], axis=1),order=(2,0,0),seasonal_order=(0,0,0,0),trend='c',enforce_invertibility=False)\n",
    "results=model.fit()\n",
    "results.summary()"
   ]
  },
  {
   "cell_type": "code",
   "execution_count": 42,
   "metadata": {},
   "outputs": [
    {
     "data": {
      "text/plain": [
       "1400   -0.250585\n",
       "1401   -0.253200\n",
       "1402   -0.250693\n",
       "dtype: float64"
      ]
     },
     "execution_count": 42,
     "metadata": {},
     "output_type": "execute_result"
    }
   ],
   "source": [
    "results.forecast(steps=3, exog=([1, 1, 1, 1, 1], [1, 1, 1, 1, 1], [1, 1, 1, 1, 1]))"
   ]
  },
  {
   "cell_type": "code",
   "execution_count": 43,
   "metadata": {},
   "outputs": [],
   "source": [
    "m = data0.temp.mean()\n",
    "sd = data0.temp.std()"
   ]
  },
  {
   "cell_type": "code",
   "execution_count": 44,
   "metadata": {},
   "outputs": [
    {
     "data": {
      "text/plain": [
       "1400    9.778953\n",
       "1401    9.746843\n",
       "1402    9.777626\n",
       "dtype: float64"
      ]
     },
     "execution_count": 44,
     "metadata": {},
     "output_type": "execute_result"
    }
   ],
   "source": [
    "results.forecast(steps=3, exog=([1, 1, 1, 1, 1], [1, 1, 1, 1, 1], [1, 1, 1, 1, 1])) * sd + m -273.15"
   ]
  },
  {
   "cell_type": "markdown",
   "metadata": {},
   "source": [
    "Last two winters were warmer compared to previous ones.  \n",
    "Let's check this hypothesis using T-test, and see if there is a significant difference in means.  "
   ]
  },
  {
   "cell_type": "code",
   "execution_count": 59,
   "metadata": {},
   "outputs": [],
   "source": [
    "data.index = pd.to_datetime(data.index)"
   ]
  },
  {
   "cell_type": "code",
   "execution_count": 60,
   "metadata": {},
   "outputs": [],
   "source": [
    "df = pd.DataFrame({\"winter_2015\" : data[\"2015-12-01\":\"2016-02-28\"].temp.values,\n",
    "                    \"winter_2016\" : data[\"2016-12-01\":\"2017-02-28\"].temp.values,\n",
    "                    \"winter_2017\" : data[\"2017-12-01\":\"2018-02-28\"].temp.values,\n",
    "                    \"winter_2018\" : data[\"2018-12-01\":\"2019-02-28\"].temp.values\n",
    "})"
   ]
  },
  {
   "cell_type": "code",
   "execution_count": 61,
   "metadata": {},
   "outputs": [
    {
     "data": {
      "text/plain": [
       "<matplotlib.axes._subplots.AxesSubplot at 0x13032842b38>"
      ]
     },
     "execution_count": 61,
     "metadata": {},
     "output_type": "execute_result"
    },
    {
     "data": {
      "image/png": "[encoded data removed]",
      "text/plain": [
       "<Figure size 432x288 with 1 Axes>"
      ]
     },
     "metadata": {
      "needs_background": "light"
     },
     "output_type": "display_data"
    }
   ],
   "source": [
    "sns.boxplot(data = df)"
   ]
  },
  {
   "cell_type": "code",
   "execution_count": 62,
   "metadata": {},
   "outputs": [
    {
     "data": {
      "text/plain": [
       "winter_2015    0.149179\n",
       "winter_2016    0.191821\n",
       "winter_2017    0.065853\n",
       "winter_2018    0.062027\n",
       "dtype: float64"
      ]
     },
     "execution_count": 62,
     "metadata": {},
     "output_type": "execute_result"
    }
   ],
   "source": [
    "df.var()"
   ]
  },
  {
   "cell_type": "code",
   "execution_count": 63,
   "metadata": {},
   "outputs": [
    {
     "data": {
      "text/plain": [
       "winter_2015   -1.121966\n",
       "winter_2016   -1.780406\n",
       "winter_2017   -0.883305\n",
       "winter_2018   -1.074412\n",
       "dtype: float64"
      ]
     },
     "execution_count": 63,
     "metadata": {},
     "output_type": "execute_result"
    }
   ],
   "source": [
    "df.mean()"
   ]
  },
  {
   "cell_type": "code",
   "execution_count": 64,
   "metadata": {},
   "outputs": [],
   "source": [
    "from scipy import stats"
   ]
  },
  {
   "cell_type": "code",
   "execution_count": 65,
   "metadata": {},
   "outputs": [
    {
     "name": "stdout",
     "output_type": "stream",
     "text": [
      "T-test for 2016 vs 2018:  Ttest_relResult(statistic=-14.733557601172304, pvalue=1.3398051269676616e-25)\n",
      "T-test for 2015 vs 2018:  Ttest_relResult(statistic=-1.2090098086430627, pvalue=0.22986117321652397)\n",
      "T-test for 2016 vs 2017:  Ttest_relResult(statistic=-15.528599651195524, pvalue=4.5544444136548364e-27)\n",
      "T-test for 2015 vs 2017:  Ttest_relResult(statistic=-6.619789406459984, pvalue=2.630251457706028e-09)\n"
     ]
    }
   ],
   "source": [
    "print(\"T-test for 2016 vs 2018: \", stats.ttest_rel(df.winter_2016, df.winter_2018))\n",
    "print(\"T-test for 2015 vs 2018: \", stats.ttest_rel(df.winter_2015, df.winter_2018))\n",
    "print(\"T-test for 2016 vs 2017: \", stats.ttest_rel(df.winter_2016, df.winter_2017))\n",
    "print(\"T-test for 2015 vs 2017: \", stats.ttest_rel(df.winter_2015, df.winter_2017))"
   ]
  },
  {
   "cell_type": "code",
   "execution_count": 66,
   "metadata": {},
   "outputs": [
    {
     "name": "stdout",
     "output_type": "stream",
     "text": [
      "Shapiro test for 2018 vs 2016 (0.9885522723197937, 0.6245923638343811)\n",
      "Shapiro test for 2017 vs 2015 (0.9389685988426208, 0.0003709469747263938)\n",
      "Shapiro test for 2018 vs 2015 (0.9703464508056641, 0.03740397468209267)\n",
      "Shapiro test for 2017 vs 2016 (0.9649539589881897, 0.015771985054016113)\n"
     ]
    }
   ],
   "source": [
    "print(\"Shapiro test for 2018 vs 2016\", stats.shapiro(df.winter_2018 - df.winter_2016))\n",
    "print(\"Shapiro test for 2017 vs 2015\", stats.shapiro(df.winter_2017 - df.winter_2015))\n",
    "print(\"Shapiro test for 2018 vs 2015\", stats.shapiro(df.winter_2018 - df.winter_2015))\n",
    "print(\"Shapiro test for 2017 vs 2016\", stats.shapiro(df.winter_2017 - df.winter_2016))"
   ]
  },
  {
   "cell_type": "markdown",
   "metadata": {},
   "source": [
    "Differences are normally distributed for 2018 vs 2016. "
   ]
  },
  {
   "cell_type": "code",
   "execution_count": 73,
   "metadata": {},
   "outputs": [
    {
     "ename": "KeyError",
     "evalue": "range(0, 1400)",
     "output_type": "error",
     "traceback": [
      "\u001b[1;31m---------------------------------------------------------------------------\u001b[0m",
      "\u001b[1;31mKeyError\u001b[0m                                  Traceback (most recent call last)",
      "\u001b[1;32m~\\Anaconda3\\lib\\site-packages\\pandas\\core\\indexes\\base.py\u001b[0m in \u001b[0;36mget_loc\u001b[1;34m(self, key, method, tolerance)\u001b[0m\n\u001b[0;32m   3077\u001b[0m             \u001b[1;32mtry\u001b[0m\u001b[1;33m:\u001b[0m\u001b[1;33m\u001b[0m\u001b[0m\n\u001b[1;32m-> 3078\u001b[1;33m                 \u001b[1;32mreturn\u001b[0m \u001b[0mself\u001b[0m\u001b[1;33m.\u001b[0m\u001b[0m_engine\u001b[0m\u001b[1;33m.\u001b[0m\u001b[0mget_loc\u001b[0m\u001b[1;33m(\u001b[0m\u001b[0mkey\u001b[0m\u001b[1;33m)\u001b[0m\u001b[1;33m\u001b[0m\u001b[0m\n\u001b[0m\u001b[0;32m   3079\u001b[0m             \u001b[1;32mexcept\u001b[0m \u001b[0mKeyError\u001b[0m\u001b[1;33m:\u001b[0m\u001b[1;33m\u001b[0m\u001b[0m\n",
      "\u001b[1;32mpandas\\_libs\\index.pyx\u001b[0m in \u001b[0;36mpandas._libs.index.IndexEngine.get_loc\u001b[1;34m()\u001b[0m\n",
      "\u001b[1;32mpandas\\_libs\\index.pyx\u001b[0m in \u001b[0;36mpandas._libs.index.IndexEngine.get_loc\u001b[1;34m()\u001b[0m\n",
      "\u001b[1;32mpandas\\_libs\\hashtable_class_helper.pxi\u001b[0m in \u001b[0;36mpandas._libs.hashtable.PyObjectHashTable.get_item\u001b[1;34m()\u001b[0m\n",
      "\u001b[1;32mpandas\\_libs\\hashtable_class_helper.pxi\u001b[0m in \u001b[0;36mpandas._libs.hashtable.PyObjectHashTable.get_item\u001b[1;34m()\u001b[0m\n",
      "\u001b[1;31mKeyError\u001b[0m: range(0, 1400)",
      "\nDuring handling of the above exception, another exception occurred:\n",
      "\u001b[1;31mKeyError\u001b[0m                                  Traceback (most recent call last)",
      "\u001b[1;32m<ipython-input-73-776828fa8160>\u001b[0m in \u001b[0;36m<module>\u001b[1;34m()\u001b[0m\n\u001b[1;32m----> 1\u001b[1;33m \u001b[0mdata\u001b[0m\u001b[1;33m.\u001b[0m\u001b[0mplot\u001b[0m\u001b[1;33m(\u001b[0m\u001b[0my\u001b[0m \u001b[1;33m=\u001b[0m \u001b[1;33m[\u001b[0m\u001b[1;34m\"temp\"\u001b[0m\u001b[1;33m]\u001b[0m\u001b[1;33m,\u001b[0m \u001b[0mx\u001b[0m\u001b[1;33m=\u001b[0m\u001b[0mrange\u001b[0m\u001b[1;33m(\u001b[0m\u001b[1;36m1400\u001b[0m\u001b[1;33m)\u001b[0m\u001b[1;33m,\u001b[0m \u001b[0mkind\u001b[0m\u001b[1;33m=\u001b[0m\u001b[1;34m\"scatter\"\u001b[0m\u001b[1;33m)\u001b[0m\u001b[1;33m\u001b[0m\u001b[0m\n\u001b[0m",
      "\u001b[1;32m~\\Anaconda3\\lib\\site-packages\\pandas\\plotting\\_core.py\u001b[0m in \u001b[0;36m__call__\u001b[1;34m(self, x, y, kind, ax, subplots, sharex, sharey, layout, figsize, use_index, title, grid, legend, style, logx, logy, loglog, xticks, yticks, xlim, ylim, rot, fontsize, colormap, table, yerr, xerr, secondary_y, sort_columns, **kwds)\u001b[0m\n\u001b[0;32m   2939\u001b[0m                           \u001b[0mfontsize\u001b[0m\u001b[1;33m=\u001b[0m\u001b[0mfontsize\u001b[0m\u001b[1;33m,\u001b[0m \u001b[0mcolormap\u001b[0m\u001b[1;33m=\u001b[0m\u001b[0mcolormap\u001b[0m\u001b[1;33m,\u001b[0m \u001b[0mtable\u001b[0m\u001b[1;33m=\u001b[0m\u001b[0mtable\u001b[0m\u001b[1;33m,\u001b[0m\u001b[1;33m\u001b[0m\u001b[0m\n\u001b[0;32m   2940\u001b[0m                           \u001b[0myerr\u001b[0m\u001b[1;33m=\u001b[0m\u001b[0myerr\u001b[0m\u001b[1;33m,\u001b[0m \u001b[0mxerr\u001b[0m\u001b[1;33m=\u001b[0m\u001b[0mxerr\u001b[0m\u001b[1;33m,\u001b[0m \u001b[0msecondary_y\u001b[0m\u001b[1;33m=\u001b[0m\u001b[0msecondary_y\u001b[0m\u001b[1;33m,\u001b[0m\u001b[1;33m\u001b[0m\u001b[0m\n\u001b[1;32m-> 2941\u001b[1;33m                           sort_columns=sort_columns, **kwds)\n\u001b[0m\u001b[0;32m   2942\u001b[0m     \u001b[0m__call__\u001b[0m\u001b[1;33m.\u001b[0m\u001b[0m__doc__\u001b[0m \u001b[1;33m=\u001b[0m \u001b[0mplot_frame\u001b[0m\u001b[1;33m.\u001b[0m\u001b[0m__doc__\u001b[0m\u001b[1;33m\u001b[0m\u001b[0m\n\u001b[0;32m   2943\u001b[0m \u001b[1;33m\u001b[0m\u001b[0m\n",
      "\u001b[1;32m~\\Anaconda3\\lib\\site-packages\\pandas\\plotting\\_core.py\u001b[0m in \u001b[0;36mplot_frame\u001b[1;34m(data, x, y, kind, ax, subplots, sharex, sharey, layout, figsize, use_index, title, grid, legend, style, logx, logy, loglog, xticks, yticks, xlim, ylim, rot, fontsize, colormap, table, yerr, xerr, secondary_y, sort_columns, **kwds)\u001b[0m\n\u001b[0;32m   1975\u001b[0m                  \u001b[0myerr\u001b[0m\u001b[1;33m=\u001b[0m\u001b[0myerr\u001b[0m\u001b[1;33m,\u001b[0m \u001b[0mxerr\u001b[0m\u001b[1;33m=\u001b[0m\u001b[0mxerr\u001b[0m\u001b[1;33m,\u001b[0m\u001b[1;33m\u001b[0m\u001b[0m\n\u001b[0;32m   1976\u001b[0m                  \u001b[0msecondary_y\u001b[0m\u001b[1;33m=\u001b[0m\u001b[0msecondary_y\u001b[0m\u001b[1;33m,\u001b[0m \u001b[0msort_columns\u001b[0m\u001b[1;33m=\u001b[0m\u001b[0msort_columns\u001b[0m\u001b[1;33m,\u001b[0m\u001b[1;33m\u001b[0m\u001b[0m\n\u001b[1;32m-> 1977\u001b[1;33m                  **kwds)\n\u001b[0m\u001b[0;32m   1978\u001b[0m \u001b[1;33m\u001b[0m\u001b[0m\n\u001b[0;32m   1979\u001b[0m \u001b[1;33m\u001b[0m\u001b[0m\n",
      "\u001b[1;32m~\\Anaconda3\\lib\\site-packages\\pandas\\plotting\\_core.py\u001b[0m in \u001b[0;36m_plot\u001b[1;34m(data, x, y, subplots, ax, kind, **kwds)\u001b[0m\n\u001b[0;32m   1741\u001b[0m         \u001b[1;32mif\u001b[0m \u001b[0misinstance\u001b[0m\u001b[1;33m(\u001b[0m\u001b[0mdata\u001b[0m\u001b[1;33m,\u001b[0m \u001b[0mABCDataFrame\u001b[0m\u001b[1;33m)\u001b[0m\u001b[1;33m:\u001b[0m\u001b[1;33m\u001b[0m\u001b[0m\n\u001b[0;32m   1742\u001b[0m             plot_obj = klass(data, x=x, y=y, subplots=subplots, ax=ax,\n\u001b[1;32m-> 1743\u001b[1;33m                              kind=kind, **kwds)\n\u001b[0m\u001b[0;32m   1744\u001b[0m         \u001b[1;32melse\u001b[0m\u001b[1;33m:\u001b[0m\u001b[1;33m\u001b[0m\u001b[0m\n\u001b[0;32m   1745\u001b[0m             raise ValueError(\"plot kind %r can only be used for data frames\"\n",
      "\u001b[1;32m~\\Anaconda3\\lib\\site-packages\\pandas\\plotting\\_core.py\u001b[0m in \u001b[0;36m__init__\u001b[1;34m(self, data, x, y, s, c, **kwargs)\u001b[0m\n\u001b[0;32m    843\u001b[0m             \u001b[1;31m# the handling of this argument later\u001b[0m\u001b[1;33m\u001b[0m\u001b[1;33m\u001b[0m\u001b[0m\n\u001b[0;32m    844\u001b[0m             \u001b[0ms\u001b[0m \u001b[1;33m=\u001b[0m \u001b[1;36m20\u001b[0m\u001b[1;33m\u001b[0m\u001b[0m\n\u001b[1;32m--> 845\u001b[1;33m         \u001b[0msuper\u001b[0m\u001b[1;33m(\u001b[0m\u001b[0mScatterPlot\u001b[0m\u001b[1;33m,\u001b[0m \u001b[0mself\u001b[0m\u001b[1;33m)\u001b[0m\u001b[1;33m.\u001b[0m\u001b[0m__init__\u001b[0m\u001b[1;33m(\u001b[0m\u001b[0mdata\u001b[0m\u001b[1;33m,\u001b[0m \u001b[0mx\u001b[0m\u001b[1;33m,\u001b[0m \u001b[0my\u001b[0m\u001b[1;33m,\u001b[0m \u001b[0ms\u001b[0m\u001b[1;33m=\u001b[0m\u001b[0ms\u001b[0m\u001b[1;33m,\u001b[0m \u001b[1;33m**\u001b[0m\u001b[0mkwargs\u001b[0m\u001b[1;33m)\u001b[0m\u001b[1;33m\u001b[0m\u001b[0m\n\u001b[0m\u001b[0;32m    846\u001b[0m         \u001b[1;32mif\u001b[0m \u001b[0mis_integer\u001b[0m\u001b[1;33m(\u001b[0m\u001b[0mc\u001b[0m\u001b[1;33m)\u001b[0m \u001b[1;32mand\u001b[0m \u001b[1;32mnot\u001b[0m \u001b[0mself\u001b[0m\u001b[1;33m.\u001b[0m\u001b[0mdata\u001b[0m\u001b[1;33m.\u001b[0m\u001b[0mcolumns\u001b[0m\u001b[1;33m.\u001b[0m\u001b[0mholds_integer\u001b[0m\u001b[1;33m(\u001b[0m\u001b[1;33m)\u001b[0m\u001b[1;33m:\u001b[0m\u001b[1;33m\u001b[0m\u001b[0m\n\u001b[0;32m    847\u001b[0m             \u001b[0mc\u001b[0m \u001b[1;33m=\u001b[0m \u001b[0mself\u001b[0m\u001b[1;33m.\u001b[0m\u001b[0mdata\u001b[0m\u001b[1;33m.\u001b[0m\u001b[0mcolumns\u001b[0m\u001b[1;33m[\u001b[0m\u001b[0mc\u001b[0m\u001b[1;33m]\u001b[0m\u001b[1;33m\u001b[0m\u001b[0m\n",
      "\u001b[1;32m~\\Anaconda3\\lib\\site-packages\\pandas\\plotting\\_core.py\u001b[0m in \u001b[0;36m__init__\u001b[1;34m(self, data, x, y, **kwargs)\u001b[0m\n\u001b[0;32m    817\u001b[0m         \u001b[1;32mif\u001b[0m \u001b[0mis_integer\u001b[0m\u001b[1;33m(\u001b[0m\u001b[0my\u001b[0m\u001b[1;33m)\u001b[0m \u001b[1;32mand\u001b[0m \u001b[1;32mnot\u001b[0m \u001b[0mself\u001b[0m\u001b[1;33m.\u001b[0m\u001b[0mdata\u001b[0m\u001b[1;33m.\u001b[0m\u001b[0mcolumns\u001b[0m\u001b[1;33m.\u001b[0m\u001b[0mholds_integer\u001b[0m\u001b[1;33m(\u001b[0m\u001b[1;33m)\u001b[0m\u001b[1;33m:\u001b[0m\u001b[1;33m\u001b[0m\u001b[0m\n\u001b[0;32m    818\u001b[0m             \u001b[0my\u001b[0m \u001b[1;33m=\u001b[0m \u001b[0mself\u001b[0m\u001b[1;33m.\u001b[0m\u001b[0mdata\u001b[0m\u001b[1;33m.\u001b[0m\u001b[0mcolumns\u001b[0m\u001b[1;33m[\u001b[0m\u001b[0my\u001b[0m\u001b[1;33m]\u001b[0m\u001b[1;33m\u001b[0m\u001b[0m\n\u001b[1;32m--> 819\u001b[1;33m         \u001b[1;32mif\u001b[0m \u001b[0mlen\u001b[0m\u001b[1;33m(\u001b[0m\u001b[0mself\u001b[0m\u001b[1;33m.\u001b[0m\u001b[0mdata\u001b[0m\u001b[1;33m[\u001b[0m\u001b[0mx\u001b[0m\u001b[1;33m]\u001b[0m\u001b[1;33m.\u001b[0m\u001b[0m_get_numeric_data\u001b[0m\u001b[1;33m(\u001b[0m\u001b[1;33m)\u001b[0m\u001b[1;33m)\u001b[0m \u001b[1;33m==\u001b[0m \u001b[1;36m0\u001b[0m\u001b[1;33m:\u001b[0m\u001b[1;33m\u001b[0m\u001b[0m\n\u001b[0m\u001b[0;32m    820\u001b[0m             \u001b[1;32mraise\u001b[0m \u001b[0mValueError\u001b[0m\u001b[1;33m(\u001b[0m\u001b[0mself\u001b[0m\u001b[1;33m.\u001b[0m\u001b[0m_kind\u001b[0m \u001b[1;33m+\u001b[0m \u001b[1;34m' requires x column to be numeric'\u001b[0m\u001b[1;33m)\u001b[0m\u001b[1;33m\u001b[0m\u001b[0m\n\u001b[0;32m    821\u001b[0m         \u001b[1;32mif\u001b[0m \u001b[0mlen\u001b[0m\u001b[1;33m(\u001b[0m\u001b[0mself\u001b[0m\u001b[1;33m.\u001b[0m\u001b[0mdata\u001b[0m\u001b[1;33m[\u001b[0m\u001b[0my\u001b[0m\u001b[1;33m]\u001b[0m\u001b[1;33m.\u001b[0m\u001b[0m_get_numeric_data\u001b[0m\u001b[1;33m(\u001b[0m\u001b[1;33m)\u001b[0m\u001b[1;33m)\u001b[0m \u001b[1;33m==\u001b[0m \u001b[1;36m0\u001b[0m\u001b[1;33m:\u001b[0m\u001b[1;33m\u001b[0m\u001b[0m\n",
      "\u001b[1;32m~\\Anaconda3\\lib\\site-packages\\pandas\\core\\frame.py\u001b[0m in \u001b[0;36m__getitem__\u001b[1;34m(self, key)\u001b[0m\n\u001b[0;32m   2686\u001b[0m             \u001b[1;32mreturn\u001b[0m \u001b[0mself\u001b[0m\u001b[1;33m.\u001b[0m\u001b[0m_getitem_multilevel\u001b[0m\u001b[1;33m(\u001b[0m\u001b[0mkey\u001b[0m\u001b[1;33m)\u001b[0m\u001b[1;33m\u001b[0m\u001b[0m\n\u001b[0;32m   2687\u001b[0m         \u001b[1;32melse\u001b[0m\u001b[1;33m:\u001b[0m\u001b[1;33m\u001b[0m\u001b[0m\n\u001b[1;32m-> 2688\u001b[1;33m             \u001b[1;32mreturn\u001b[0m \u001b[0mself\u001b[0m\u001b[1;33m.\u001b[0m\u001b[0m_getitem_column\u001b[0m\u001b[1;33m(\u001b[0m\u001b[0mkey\u001b[0m\u001b[1;33m)\u001b[0m\u001b[1;33m\u001b[0m\u001b[0m\n\u001b[0m\u001b[0;32m   2689\u001b[0m \u001b[1;33m\u001b[0m\u001b[0m\n\u001b[0;32m   2690\u001b[0m     \u001b[1;32mdef\u001b[0m \u001b[0m_getitem_column\u001b[0m\u001b[1;33m(\u001b[0m\u001b[0mself\u001b[0m\u001b[1;33m,\u001b[0m \u001b[0mkey\u001b[0m\u001b[1;33m)\u001b[0m\u001b[1;33m:\u001b[0m\u001b[1;33m\u001b[0m\u001b[0m\n",
      "\u001b[1;32m~\\Anaconda3\\lib\\site-packages\\pandas\\core\\frame.py\u001b[0m in \u001b[0;36m_getitem_column\u001b[1;34m(self, key)\u001b[0m\n\u001b[0;32m   2693\u001b[0m         \u001b[1;31m# get column\u001b[0m\u001b[1;33m\u001b[0m\u001b[1;33m\u001b[0m\u001b[0m\n\u001b[0;32m   2694\u001b[0m         \u001b[1;32mif\u001b[0m \u001b[0mself\u001b[0m\u001b[1;33m.\u001b[0m\u001b[0mcolumns\u001b[0m\u001b[1;33m.\u001b[0m\u001b[0mis_unique\u001b[0m\u001b[1;33m:\u001b[0m\u001b[1;33m\u001b[0m\u001b[0m\n\u001b[1;32m-> 2695\u001b[1;33m             \u001b[1;32mreturn\u001b[0m \u001b[0mself\u001b[0m\u001b[1;33m.\u001b[0m\u001b[0m_get_item_cache\u001b[0m\u001b[1;33m(\u001b[0m\u001b[0mkey\u001b[0m\u001b[1;33m)\u001b[0m\u001b[1;33m\u001b[0m\u001b[0m\n\u001b[0m\u001b[0;32m   2696\u001b[0m \u001b[1;33m\u001b[0m\u001b[0m\n\u001b[0;32m   2697\u001b[0m         \u001b[1;31m# duplicate columns & possible reduce dimensionality\u001b[0m\u001b[1;33m\u001b[0m\u001b[1;33m\u001b[0m\u001b[0m\n",
      "\u001b[1;32m~\\Anaconda3\\lib\\site-packages\\pandas\\core\\generic.py\u001b[0m in \u001b[0;36m_get_item_cache\u001b[1;34m(self, item)\u001b[0m\n\u001b[0;32m   2487\u001b[0m         \u001b[0mres\u001b[0m \u001b[1;33m=\u001b[0m \u001b[0mcache\u001b[0m\u001b[1;33m.\u001b[0m\u001b[0mget\u001b[0m\u001b[1;33m(\u001b[0m\u001b[0mitem\u001b[0m\u001b[1;33m)\u001b[0m\u001b[1;33m\u001b[0m\u001b[0m\n\u001b[0;32m   2488\u001b[0m         \u001b[1;32mif\u001b[0m \u001b[0mres\u001b[0m \u001b[1;32mis\u001b[0m \u001b[1;32mNone\u001b[0m\u001b[1;33m:\u001b[0m\u001b[1;33m\u001b[0m\u001b[0m\n\u001b[1;32m-> 2489\u001b[1;33m             \u001b[0mvalues\u001b[0m \u001b[1;33m=\u001b[0m \u001b[0mself\u001b[0m\u001b[1;33m.\u001b[0m\u001b[0m_data\u001b[0m\u001b[1;33m.\u001b[0m\u001b[0mget\u001b[0m\u001b[1;33m(\u001b[0m\u001b[0mitem\u001b[0m\u001b[1;33m)\u001b[0m\u001b[1;33m\u001b[0m\u001b[0m\n\u001b[0m\u001b[0;32m   2490\u001b[0m             \u001b[0mres\u001b[0m \u001b[1;33m=\u001b[0m \u001b[0mself\u001b[0m\u001b[1;33m.\u001b[0m\u001b[0m_box_item_values\u001b[0m\u001b[1;33m(\u001b[0m\u001b[0mitem\u001b[0m\u001b[1;33m,\u001b[0m \u001b[0mvalues\u001b[0m\u001b[1;33m)\u001b[0m\u001b[1;33m\u001b[0m\u001b[0m\n\u001b[0;32m   2491\u001b[0m             \u001b[0mcache\u001b[0m\u001b[1;33m[\u001b[0m\u001b[0mitem\u001b[0m\u001b[1;33m]\u001b[0m \u001b[1;33m=\u001b[0m \u001b[0mres\u001b[0m\u001b[1;33m\u001b[0m\u001b[0m\n",
      "\u001b[1;32m~\\Anaconda3\\lib\\site-packages\\pandas\\core\\internals.py\u001b[0m in \u001b[0;36mget\u001b[1;34m(self, item, fastpath)\u001b[0m\n\u001b[0;32m   4113\u001b[0m \u001b[1;33m\u001b[0m\u001b[0m\n\u001b[0;32m   4114\u001b[0m             \u001b[1;32mif\u001b[0m \u001b[1;32mnot\u001b[0m \u001b[0misna\u001b[0m\u001b[1;33m(\u001b[0m\u001b[0mitem\u001b[0m\u001b[1;33m)\u001b[0m\u001b[1;33m:\u001b[0m\u001b[1;33m\u001b[0m\u001b[0m\n\u001b[1;32m-> 4115\u001b[1;33m                 \u001b[0mloc\u001b[0m \u001b[1;33m=\u001b[0m \u001b[0mself\u001b[0m\u001b[1;33m.\u001b[0m\u001b[0mitems\u001b[0m\u001b[1;33m.\u001b[0m\u001b[0mget_loc\u001b[0m\u001b[1;33m(\u001b[0m\u001b[0mitem\u001b[0m\u001b[1;33m)\u001b[0m\u001b[1;33m\u001b[0m\u001b[0m\n\u001b[0m\u001b[0;32m   4116\u001b[0m             \u001b[1;32melse\u001b[0m\u001b[1;33m:\u001b[0m\u001b[1;33m\u001b[0m\u001b[0m\n\u001b[0;32m   4117\u001b[0m                 \u001b[0mindexer\u001b[0m \u001b[1;33m=\u001b[0m \u001b[0mnp\u001b[0m\u001b[1;33m.\u001b[0m\u001b[0marange\u001b[0m\u001b[1;33m(\u001b[0m\u001b[0mlen\u001b[0m\u001b[1;33m(\u001b[0m\u001b[0mself\u001b[0m\u001b[1;33m.\u001b[0m\u001b[0mitems\u001b[0m\u001b[1;33m)\u001b[0m\u001b[1;33m)\u001b[0m\u001b[1;33m[\u001b[0m\u001b[0misna\u001b[0m\u001b[1;33m(\u001b[0m\u001b[0mself\u001b[0m\u001b[1;33m.\u001b[0m\u001b[0mitems\u001b[0m\u001b[1;33m)\u001b[0m\u001b[1;33m]\u001b[0m\u001b[1;33m\u001b[0m\u001b[0m\n",
      "\u001b[1;32m~\\Anaconda3\\lib\\site-packages\\pandas\\core\\indexes\\base.py\u001b[0m in \u001b[0;36mget_loc\u001b[1;34m(self, key, method, tolerance)\u001b[0m\n\u001b[0;32m   3078\u001b[0m                 \u001b[1;32mreturn\u001b[0m \u001b[0mself\u001b[0m\u001b[1;33m.\u001b[0m\u001b[0m_engine\u001b[0m\u001b[1;33m.\u001b[0m\u001b[0mget_loc\u001b[0m\u001b[1;33m(\u001b[0m\u001b[0mkey\u001b[0m\u001b[1;33m)\u001b[0m\u001b[1;33m\u001b[0m\u001b[0m\n\u001b[0;32m   3079\u001b[0m             \u001b[1;32mexcept\u001b[0m \u001b[0mKeyError\u001b[0m\u001b[1;33m:\u001b[0m\u001b[1;33m\u001b[0m\u001b[0m\n\u001b[1;32m-> 3080\u001b[1;33m                 \u001b[1;32mreturn\u001b[0m \u001b[0mself\u001b[0m\u001b[1;33m.\u001b[0m\u001b[0m_engine\u001b[0m\u001b[1;33m.\u001b[0m\u001b[0mget_loc\u001b[0m\u001b[1;33m(\u001b[0m\u001b[0mself\u001b[0m\u001b[1;33m.\u001b[0m\u001b[0m_maybe_cast_indexer\u001b[0m\u001b[1;33m(\u001b[0m\u001b[0mkey\u001b[0m\u001b[1;33m)\u001b[0m\u001b[1;33m)\u001b[0m\u001b[1;33m\u001b[0m\u001b[0m\n\u001b[0m\u001b[0;32m   3081\u001b[0m \u001b[1;33m\u001b[0m\u001b[0m\n\u001b[0;32m   3082\u001b[0m         \u001b[0mindexer\u001b[0m \u001b[1;33m=\u001b[0m \u001b[0mself\u001b[0m\u001b[1;33m.\u001b[0m\u001b[0mget_indexer\u001b[0m\u001b[1;33m(\u001b[0m\u001b[1;33m[\u001b[0m\u001b[0mkey\u001b[0m\u001b[1;33m]\u001b[0m\u001b[1;33m,\u001b[0m \u001b[0mmethod\u001b[0m\u001b[1;33m=\u001b[0m\u001b[0mmethod\u001b[0m\u001b[1;33m,\u001b[0m \u001b[0mtolerance\u001b[0m\u001b[1;33m=\u001b[0m\u001b[0mtolerance\u001b[0m\u001b[1;33m)\u001b[0m\u001b[1;33m\u001b[0m\u001b[0m\n",
      "\u001b[1;32mpandas\\_libs\\index.pyx\u001b[0m in \u001b[0;36mpandas._libs.index.IndexEngine.get_loc\u001b[1;34m()\u001b[0m\n",
      "\u001b[1;32mpandas\\_libs\\index.pyx\u001b[0m in \u001b[0;36mpandas._libs.index.IndexEngine.get_loc\u001b[1;34m()\u001b[0m\n",
      "\u001b[1;32mpandas\\_libs\\hashtable_class_helper.pxi\u001b[0m in \u001b[0;36mpandas._libs.hashtable.PyObjectHashTable.get_item\u001b[1;34m()\u001b[0m\n",
      "\u001b[1;32mpandas\\_libs\\hashtable_class_helper.pxi\u001b[0m in \u001b[0;36mpandas._libs.hashtable.PyObjectHashTable.get_item\u001b[1;34m()\u001b[0m\n",
      "\u001b[1;31mKeyError\u001b[0m: range(0, 1400)"
     ]
    }
   ],
   "source": []
  },
  {
   "cell_type": "code",
   "execution_count": 76,
   "metadata": {},
   "outputs": [
    {
     "data": {
      "text/plain": [
       "<matplotlib.collections.PathCollection at 0x13036f67a58>"
      ]
     },
     "execution_count": 76,
     "metadata": {},
     "output_type": "execute_result"
    },
    {
     "data": {
      "image/png": "[encoded data removed]",
      "text/plain": [
       "<Figure size 432x288 with 1 Axes>"
      ]
     },
     "metadata": {
      "needs_background": "light"
     },
     "output_type": "display_data"
    }
   ],
   "source": [
    "plt.scatter(x=data0.index, y = data0.temp)"
   ]
  },
  {
   "cell_type": "code",
   "execution_count": 77,
   "metadata": {},
   "outputs": [
    {
     "data": {
      "text/html": [
       "<div>\n",
       "<style scoped>\n",
       "    .dataframe tbody tr th:only-of-type {\n",
       "        vertical-align: middle;\n",
       "    }\n",
       "\n",
       "    .dataframe tbody tr th {\n",
       "        vertical-align: top;\n",
       "    }\n",
       "\n",
       "    .dataframe thead th {\n",
       "        text-align: right;\n",
       "    }\n",
       "</style>\n",
       "<table border=\"1\" class=\"dataframe\">\n",
       "  <thead>\n",
       "    <tr style=\"text-align: right;\">\n",
       "      <th></th>\n",
       "      <th>temp</th>\n",
       "      <th>pressure</th>\n",
       "      <th>humidity</th>\n",
       "      <th>wind_speed</th>\n",
       "      <th>wind_deg</th>\n",
       "      <th>clouds_all</th>\n",
       "    </tr>\n",
       "  </thead>\n",
       "  <tbody>\n",
       "    <tr>\n",
       "      <th>count</th>\n",
       "      <td>1.400000e+03</td>\n",
       "      <td>1.400000e+03</td>\n",
       "      <td>1.400000e+03</td>\n",
       "      <td>1.400000e+03</td>\n",
       "      <td>1.400000e+03</td>\n",
       "      <td>1.400000e+03</td>\n",
       "    </tr>\n",
       "    <tr>\n",
       "      <th>mean</th>\n",
       "      <td>2.325521e-16</td>\n",
       "      <td>1.732741e-17</td>\n",
       "      <td>1.276756e-16</td>\n",
       "      <td>-6.309239e-16</td>\n",
       "      <td>-1.119739e-16</td>\n",
       "      <td>-1.130048e-17</td>\n",
       "    </tr>\n",
       "    <tr>\n",
       "      <th>std</th>\n",
       "      <td>1.000357e+00</td>\n",
       "      <td>1.000357e+00</td>\n",
       "      <td>1.000357e+00</td>\n",
       "      <td>1.000357e+00</td>\n",
       "      <td>1.000357e+00</td>\n",
       "      <td>1.000357e+00</td>\n",
       "    </tr>\n",
       "    <tr>\n",
       "      <th>min</th>\n",
       "      <td>-2.616620e+00</td>\n",
       "      <td>-4.232883e+00</td>\n",
       "      <td>-2.019719e+00</td>\n",
       "      <td>-1.503079e+00</td>\n",
       "      <td>-2.692395e+00</td>\n",
       "      <td>-1.283032e+00</td>\n",
       "    </tr>\n",
       "    <tr>\n",
       "      <th>25%</th>\n",
       "      <td>-7.849988e-01</td>\n",
       "      <td>1.279248e-01</td>\n",
       "      <td>-9.261896e-01</td>\n",
       "      <td>-7.492293e-01</td>\n",
       "      <td>-6.390986e-01</td>\n",
       "      <td>-8.440998e-01</td>\n",
       "    </tr>\n",
       "    <tr>\n",
       "      <th>50%</th>\n",
       "      <td>7.110644e-04</td>\n",
       "      <td>2.792797e-01</td>\n",
       "      <td>9.343579e-03</td>\n",
       "      <td>-2.325573e-01</td>\n",
       "      <td>-5.258533e-02</td>\n",
       "      <td>-1.595894e-01</td>\n",
       "    </tr>\n",
       "    <tr>\n",
       "      <th>75%</th>\n",
       "      <td>8.911823e-01</td>\n",
       "      <td>4.392736e-01</td>\n",
       "      <td>8.563037e-01</td>\n",
       "      <td>6.012228e-01</td>\n",
       "      <td>6.207311e-01</td>\n",
       "      <td>6.758597e-01</td>\n",
       "    </tr>\n",
       "    <tr>\n",
       "      <th>max</th>\n",
       "      <td>1.879063e+00</td>\n",
       "      <td>9.819411e-01</td>\n",
       "      <td>2.027585e+00</td>\n",
       "      <td>3.847773e+00</td>\n",
       "      <td>3.989816e+00</td>\n",
       "      <td>2.629402e+00</td>\n",
       "    </tr>\n",
       "  </tbody>\n",
       "</table>\n",
       "</div>"
      ],
      "text/plain": [
       "               temp      pressure      humidity    wind_speed      wind_deg  \\\n",
       "count  1.400000e+03  1.400000e+03  1.400000e+03  1.400000e+03  1.400000e+03   \n",
       "mean   2.325521e-16  1.732741e-17  1.276756e-16 -6.309239e-16 -1.119739e-16   \n",
       "std    1.000357e+00  1.000357e+00  1.000357e+00  1.000357e+00  1.000357e+00   \n",
       "min   -2.616620e+00 -4.232883e+00 -2.019719e+00 -1.503079e+00 -2.692395e+00   \n",
       "25%   -7.849988e-01  1.279248e-01 -9.261896e-01 -7.492293e-01 -6.390986e-01   \n",
       "50%    7.110644e-04  2.792797e-01  9.343579e-03 -2.325573e-01 -5.258533e-02   \n",
       "75%    8.911823e-01  4.392736e-01  8.563037e-01  6.012228e-01  6.207311e-01   \n",
       "max    1.879063e+00  9.819411e-01  2.027585e+00  3.847773e+00  3.989816e+00   \n",
       "\n",
       "         clouds_all  \n",
       "count  1.400000e+03  \n",
       "mean  -1.130048e-17  \n",
       "std    1.000357e+00  \n",
       "min   -1.283032e+00  \n",
       "25%   -8.440998e-01  \n",
       "50%   -1.595894e-01  \n",
       "75%    6.758597e-01  \n",
       "max    2.629402e+00  "
      ]
     },
     "execution_count": 77,
     "metadata": {},
     "output_type": "execute_result"
    }
   ],
   "source": [
    "data.describe()"
   ]
  },
  {
   "cell_type": "code",
   "execution_count": 78,
   "metadata": {},
   "outputs": [
    {
     "data": {
      "text/plain": [
       "Clouds          16384\n",
       "Clear           11736\n",
       "Mist             3933\n",
       "Rain             2375\n",
       "Fog               731\n",
       "Thunderstorm      683\n",
       "Snow              378\n",
       "Haze               11\n",
       "Smoke               7\n",
       "Drizzle             3\n",
       "Dust                3\n",
       "Name: weather_main, dtype: int64"
      ]
     },
     "execution_count": 78,
     "metadata": {},
     "output_type": "execute_result"
    }
   ],
   "source": [
    "data0.weather_main.value_counts()"
   ]
  },
  {
   "cell_type": "code",
   "execution_count": null,
   "metadata": {},
   "outputs": [],
   "source": []
  }
 ],
 "metadata": {
  "kernelspec": {
   "display_name": "Python 3",
   "language": "python",
   "name": "python3"
  },
  "language_info": {
   "codemirror_mode": {
    "name": "ipython",
    "version": 3
   },
   "file_extension": ".py",
   "mimetype": "text/x-python",
   "name": "python",
   "nbconvert_exporter": "python",
   "pygments_lexer": "ipython3",
   "version": "3.6.5"
  }
 },
 "nbformat": 4,
 "nbformat_minor": 2
}
